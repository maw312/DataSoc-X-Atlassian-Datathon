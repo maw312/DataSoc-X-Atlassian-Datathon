{
 "cells": [
  {
   "cell_type": "code",
   "execution_count": 13,
   "id": "55c3108a-3bfa-4762-b291-f5ac13e0f3ca",
   "metadata": {},
   "outputs": [],
   "source": [
    "import numpy as np\n",
    "import pandas as pd"
   ]
  },
  {
   "cell_type": "code",
   "execution_count": 15,
   "id": "be8b9c4b-847e-4831-8048-c5e83f255ecf",
   "metadata": {},
   "outputs": [],
   "source": [
    "billingRaw = pd.read_csv('../Dataset/billing.csv')\n",
    "eventsRaw = pd.read_csv('../Dataset/events.csv')\n",
    "sessionsRaw = pd.read_csv('../Dataset/sessions.csv')\n",
    "usersRaw = pd.read_csv('../Dataset/users.csv')"
   ]
  },
  {
   "cell_type": "code",
   "execution_count": 17,
   "id": "0e47ba2c-cbd3-46dd-9bc5-f646ac50aea5",
   "metadata": {},
   "outputs": [
    {
     "data": {
      "text/html": [
       "<div>\n",
       "<style scoped>\n",
       "    .dataframe tbody tr th:only-of-type {\n",
       "        vertical-align: middle;\n",
       "    }\n",
       "\n",
       "    .dataframe tbody tr th {\n",
       "        vertical-align: top;\n",
       "    }\n",
       "\n",
       "    .dataframe thead th {\n",
       "        text-align: right;\n",
       "    }\n",
       "</style>\n",
       "<table border=\"1\" class=\"dataframe\">\n",
       "  <thead>\n",
       "    <tr style=\"text-align: right;\">\n",
       "      <th></th>\n",
       "      <th>user_id</th>\n",
       "      <th>month</th>\n",
       "      <th>plan_tier</th>\n",
       "      <th>active_seats</th>\n",
       "      <th>mrr</th>\n",
       "      <th>discount_applied</th>\n",
       "      <th>invoices_overdue</th>\n",
       "      <th>support_ticket_count</th>\n",
       "    </tr>\n",
       "  </thead>\n",
       "  <tbody>\n",
       "    <tr>\n",
       "      <th>0</th>\n",
       "      <td>f94d1824-8742-4000-8b6d-39d70958490b</td>\n",
       "      <td>2024-05</td>\n",
       "      <td>free</td>\n",
       "      <td>2</td>\n",
       "      <td>0.0</td>\n",
       "      <td>0</td>\n",
       "      <td>0</td>\n",
       "      <td>0</td>\n",
       "    </tr>\n",
       "    <tr>\n",
       "      <th>1</th>\n",
       "      <td>f94d1824-8742-4000-8b6d-39d70958490b</td>\n",
       "      <td>2024-06</td>\n",
       "      <td>free</td>\n",
       "      <td>2</td>\n",
       "      <td>0.0</td>\n",
       "      <td>0</td>\n",
       "      <td>0</td>\n",
       "      <td>0</td>\n",
       "    </tr>\n",
       "    <tr>\n",
       "      <th>2</th>\n",
       "      <td>f94d1824-8742-4000-8b6d-39d70958490b</td>\n",
       "      <td>2024-07</td>\n",
       "      <td>free</td>\n",
       "      <td>1</td>\n",
       "      <td>0.0</td>\n",
       "      <td>0</td>\n",
       "      <td>0</td>\n",
       "      <td>0</td>\n",
       "    </tr>\n",
       "    <tr>\n",
       "      <th>3</th>\n",
       "      <td>f94d1824-8742-4000-8b6d-39d70958490b</td>\n",
       "      <td>2024-08</td>\n",
       "      <td>free</td>\n",
       "      <td>1</td>\n",
       "      <td>0.0</td>\n",
       "      <td>0</td>\n",
       "      <td>0</td>\n",
       "      <td>0</td>\n",
       "    </tr>\n",
       "    <tr>\n",
       "      <th>4</th>\n",
       "      <td>f94d1824-8742-4000-8b6d-39d70958490b</td>\n",
       "      <td>2024-09</td>\n",
       "      <td>free</td>\n",
       "      <td>1</td>\n",
       "      <td>0.0</td>\n",
       "      <td>0</td>\n",
       "      <td>0</td>\n",
       "      <td>0</td>\n",
       "    </tr>\n",
       "  </tbody>\n",
       "</table>\n",
       "</div>"
      ],
      "text/plain": [
       "                                user_id    month plan_tier  active_seats  mrr  \\\n",
       "0  f94d1824-8742-4000-8b6d-39d70958490b  2024-05      free             2  0.0   \n",
       "1  f94d1824-8742-4000-8b6d-39d70958490b  2024-06      free             2  0.0   \n",
       "2  f94d1824-8742-4000-8b6d-39d70958490b  2024-07      free             1  0.0   \n",
       "3  f94d1824-8742-4000-8b6d-39d70958490b  2024-08      free             1  0.0   \n",
       "4  f94d1824-8742-4000-8b6d-39d70958490b  2024-09      free             1  0.0   \n",
       "\n",
       "   discount_applied  invoices_overdue  support_ticket_count  \n",
       "0                 0                 0                     0  \n",
       "1                 0                 0                     0  \n",
       "2                 0                 0                     0  \n",
       "3                 0                 0                     0  \n",
       "4                 0                 0                     0  "
      ]
     },
     "execution_count": 17,
     "metadata": {},
     "output_type": "execute_result"
    }
   ],
   "source": [
    "billingRaw[:5]"
   ]
  },
  {
   "cell_type": "code",
   "execution_count": null,
   "id": "190d405e-6dae-4ade-acd2-2158a4457e5a",
   "metadata": {},
   "outputs": [],
   "source": []
  }
 ],
 "metadata": {
  "kernelspec": {
   "display_name": "Python 3 (ipykernel)",
   "language": "python",
   "name": "python3"
  },
  "language_info": {
   "codemirror_mode": {
    "name": "ipython",
    "version": 3
   },
   "file_extension": ".py",
   "mimetype": "text/x-python",
   "name": "python",
   "nbconvert_exporter": "python",
   "pygments_lexer": "ipython3",
   "version": "3.12.7"
  }
 },
 "nbformat": 4,
 "nbformat_minor": 5
}
