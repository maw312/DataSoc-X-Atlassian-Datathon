{
 "cells": [
  {
   "cell_type": "markdown",
   "id": "cc7d3025-6841-427c-8e86-3d4a59c04846",
   "metadata": {},
   "source": [
    "## Importing Packages"
   ]
  },
  {
   "cell_type": "code",
   "execution_count": 2,
   "id": "12ef1ad1-8a48-40a4-a0ce-2fde752e6d14",
   "metadata": {},
   "outputs": [],
   "source": [
    "import numpy as np\n",
    "import pandas as pd\n",
    "import matplotlib.pyplot as plt\n",
    "from sklearn.model_selection import train_test_split\n",
    "from sklearn.linear_model import LogisticRegression\n",
    "from sklearn.metrics import accuracy_score, classification_report\n",
    "import matplotlib.pyplot as plt\n",
    "import statsmodels.api as sm"
   ]
  },
  {
   "cell_type": "markdown",
   "id": "3b81dfe3-849e-4289-a7de-2d84ef807431",
   "metadata": {},
   "source": [
    "## Importing Datasets"
   ]
  },
  {
   "cell_type": "code",
   "execution_count": 4,
   "id": "699c3219-2722-46c1-b66a-df65493b80aa",
   "metadata": {},
   "outputs": [],
   "source": [
    "billingRaw = pd.read_csv('../datasets/billing.csv')\n",
    "eventsRaw = pd.read_csv('../datasets/events.csv')\n",
    "sessionsRaw = pd.read_csv('../datasets/sessions.csv')\n",
    "usersRaw = pd.read_csv('../datasets/users.csv')"
   ]
  },
  {
   "cell_type": "markdown",
   "id": "c9340b24-c447-4b4f-a714-272250001683",
   "metadata": {},
   "source": [
    "## Plan tiers to numeric"
   ]
  },
  {
   "cell_type": "code",
   "execution_count": 6,
   "id": "5ba918fd-89d1-46c3-a093-2367e887277e",
   "metadata": {},
   "outputs": [],
   "source": [
    "billingRaw.loc[billingRaw['plan_tier'] == 'free', billingRaw.columns[2]] = 0\n",
    "billingRaw.loc[billingRaw['plan_tier'] == 'standard', billingRaw.columns[2]] = 1\n",
    "billingRaw.loc[billingRaw['plan_tier'] == 'premium', billingRaw.columns[2]] = 2\n",
    "billingRaw['plan_tier'] = pd.to_numeric(billingRaw['plan_tier'], errors='coerce')"
   ]
  },
  {
   "cell_type": "markdown",
   "id": "8d835a4b-3379-445a-912e-aff61d3cb15b",
   "metadata": {},
   "source": [
    "## Converting to datetime"
   ]
  },
  {
   "cell_type": "code",
   "execution_count": 8,
   "id": "d6340d07-326e-4b72-8a23-465b3878f907",
   "metadata": {},
   "outputs": [
    {
     "data": {
      "text/plain": [
       "pandas.core.series.Series"
      ]
     },
     "execution_count": 8,
     "metadata": {},
     "output_type": "execute_result"
    }
   ],
   "source": [
    "billingRaw['month'] = pd.to_datetime(billingRaw['month'], format = '%Y-%m')\n",
    "type(billingRaw['month'])"
   ]
  },
  {
   "cell_type": "markdown",
   "id": "b437fef6-edca-4cc7-bd1a-68a508b9ba23",
   "metadata": {},
   "source": [
    "## Condensed Feature Engineering\n",
    "Full thought process on billingEDA.ipynb"
   ]
  },
  {
   "cell_type": "code",
   "execution_count": 10,
   "id": "fd0b353b-0f4c-4884-8b41-a07f3002fd60",
   "metadata": {},
   "outputs": [],
   "source": [
    "upgrade_df = billingRaw.groupby('user_id')['plan_tier'].agg(['first', 'last']).reset_index()\n",
    "upgrade_df['upgrade'] = (upgrade_df['last'] > upgrade_df['first']).astype(int)\n",
    "upgrade_df.loc[upgrade_df['last'] < upgrade_df['first'], 'upgrade'] = -1\n",
    "upgrade_df = upgrade_df.drop(['first', 'last'], axis = 1)\n",
    "discount_df = billingRaw.groupby(\"user_id\")[\"discount_applied\"].max().reset_index().drop('user_id', axis = 1)\n",
    "upgrade_df = pd.concat([upgrade_df, discount_df], axis = 1)\n",
    "seats_df = billingRaw.groupby('user_id').tail(1)[['user_id', 'active_seats']].drop_duplicates('user_id')\n",
    "\n",
    "\n",
    "\n",
    "upgrade_df = upgrade_df.merge(seats_df, on='user_id', how='left')\n",
    "support_df = billingRaw.groupby('user_id').tail(1)[['user_id', 'support_ticket_count']].drop_duplicates('user_id')\n",
    "upgrade_df = upgrade_df.merge(support_df, on='user_id', how='left')\n",
    "billingRaw['plan_tier_shift'] = billingRaw.groupby('user_id')['plan_tier'].shift()\n",
    "billingRaw['tier_change'] = billingRaw['plan_tier'] != billingRaw['plan_tier_shift']\n",
    "first_rows_idx = billingRaw.groupby('user_id').head(1).index\n",
    "billingRaw.loc[first_rows_idx, 'tier_change'] = False\n",
    "\n",
    "first_change_prev_idx = (\n",
    "    billingRaw[billingRaw['tier_change']]\n",
    "      .groupby('user_id')\n",
    "      .head(1)\n",
    "      .index - 1\n",
    ")\n",
    "\n",
    "billingRaw['seats'] = np.nan\n",
    "billingRaw.loc[first_change_prev_idx, 'seats'] = billingRaw.loc[first_change_prev_idx, 'active_seats']\n",
    "\n",
    "no_change_mask = billingRaw.groupby('user_id')['tier_change'].transform('sum').eq(0)\n",
    "last_rows_no_change = billingRaw[no_change_mask].groupby('user_id').tail(1)\n",
    "billingRaw.loc[last_rows_no_change.index, 'seats'] = last_rows_no_change['active_seats']\n",
    "\n",
    "seats_before = (\n",
    "    billingRaw.dropna(subset=['seats'])\n",
    "              .drop_duplicates('user_id')[['user_id', 'seats']]\n",
    "              .reset_index(drop=True)\n",
    ")\n",
    "\n",
    "upgrade_df = upgrade_df.merge(seats_before, on='user_id', how='left')\n",
    "upgrade_df = upgrade_df.drop('active_seats', axis = 1)\n",
    "billingRaw['plan_tier_shift'] = billingRaw.groupby('user_id')['plan_tier'].shift()\n",
    "billingRaw['tier_change'] = billingRaw['plan_tier'] != billingRaw['plan_tier_shift']\n",
    "first_rows_idx = billingRaw.groupby('user_id').head(1).index\n",
    "billingRaw.loc[first_rows_idx, 'tier_change'] = False\n",
    "\n",
    "first_change_prev_idx = (\n",
    "    billingRaw[billingRaw['tier_change']]\n",
    "      .groupby('user_id')\n",
    "      .head(1)\n",
    "      .index - 1\n",
    ")\n",
    "\n",
    "billingRaw['support_tickets'] = np.nan\n",
    "billingRaw.loc[first_change_prev_idx, 'support_tickets'] = billingRaw.loc[first_change_prev_idx, 'support_ticket_count']\n",
    "\n",
    "no_change_mask = billingRaw.groupby('user_id')['tier_change'].transform('sum').eq(0)\n",
    "last_rows_no_change = billingRaw[no_change_mask].groupby('user_id').tail(1)\n",
    "billingRaw.loc[last_rows_no_change.index, 'support_tickets'] = last_rows_no_change['support_ticket_count']\n",
    "\n",
    "support_tickets_before = (\n",
    "    billingRaw.dropna(subset=['support_tickets'])\n",
    "              .drop_duplicates('user_id')[['user_id', 'support_tickets']]\n",
    "              .reset_index(drop=True)\n",
    ")\n",
    "upgrade_df = upgrade_df.merge(support_tickets_before, on='user_id', how='left')\n",
    "upgrade_df = upgrade_df.drop('support_ticket_count', axis = 1)\n",
    "activeUpgrades = upgrade_df[upgrade_df['upgrade'] != 0]"
   ]
  },
  {
   "cell_type": "markdown",
   "id": "97c88639-0c88-43b2-b536-68756345f147",
   "metadata": {},
   "source": [
    "## Feature Engineering with events.csv\n",
    "Note that this is condensed and doesn't show full thought process. Full process on billingEDA.ipynb"
   ]
  },
  {
   "cell_type": "code",
   "execution_count": 12,
   "id": "ea3682c6-d29c-4e80-8d93-8ed295911e07",
   "metadata": {},
   "outputs": [],
   "source": [
    "eventsRaw = eventsRaw.drop('event_id', axis = 1)\n",
    "action_counts = eventsRaw.groupby('user_id')['action'].value_counts().unstack(fill_value=0).reset_index()\n",
    "action_counts['total'] = action_counts[['click', 'complete', 'view']].sum(axis = 1)\n",
    "df = activeUpgrades\n",
    "df = df.merge(action_counts, on='user_id', how='left')\n",
    "df = df.dropna()\n",
    "df = df.drop(['click', 'complete', 'view'], axis = 1)\n",
    "df['upgrade'] = df['upgrade'].replace(-1, 0)"
   ]
  },
  {
   "cell_type": "markdown",
   "id": "bb098e02-ec58-4d63-a931-c07986961ca0",
   "metadata": {},
   "source": [
    "## Finished dataset\n",
    "### upgrade\n",
    "0 is downgrade, 1 is upgrade\n",
    "\n",
    "### discount_applied\n",
    "0 if discount not applied, 1 if discount applied\n",
    "\n",
    "### seats\n",
    "number of seats BEFORE upgrading or downgrading\n",
    "\n",
    "### support_tickets\n",
    "support tickets the month BEFORE upgrading or downgrading\n",
    "\n",
    "### total\n",
    "total actions (click, view, complete)"
   ]
  },
  {
   "cell_type": "code",
   "execution_count": 26,
   "id": "bb5cf014-66db-4092-b573-72da55e63d07",
   "metadata": {},
   "outputs": [
    {
     "data": {
      "text/html": [
       "<div>\n",
       "<style scoped>\n",
       "    .dataframe tbody tr th:only-of-type {\n",
       "        vertical-align: middle;\n",
       "    }\n",
       "\n",
       "    .dataframe tbody tr th {\n",
       "        vertical-align: top;\n",
       "    }\n",
       "\n",
       "    .dataframe thead th {\n",
       "        text-align: right;\n",
       "    }\n",
       "</style>\n",
       "<table border=\"1\" class=\"dataframe\">\n",
       "  <thead>\n",
       "    <tr style=\"text-align: right;\">\n",
       "      <th></th>\n",
       "      <th>user_id</th>\n",
       "      <th>upgrade</th>\n",
       "      <th>discount_applied</th>\n",
       "      <th>seats</th>\n",
       "      <th>support_tickets</th>\n",
       "      <th>total</th>\n",
       "    </tr>\n",
       "  </thead>\n",
       "  <tbody>\n",
       "    <tr>\n",
       "      <th>0</th>\n",
       "      <td>0031b10d-a3fb-4fa6-a27b-ea1ef8d5131b</td>\n",
       "      <td>0</td>\n",
       "      <td>0</td>\n",
       "      <td>8.0</td>\n",
       "      <td>0.0</td>\n",
       "      <td>4.0</td>\n",
       "    </tr>\n",
       "    <tr>\n",
       "      <th>3</th>\n",
       "      <td>00503b30-79b8-4aed-aeb5-a91aca3053be</td>\n",
       "      <td>0</td>\n",
       "      <td>0</td>\n",
       "      <td>117.0</td>\n",
       "      <td>2.0</td>\n",
       "      <td>2.0</td>\n",
       "    </tr>\n",
       "    <tr>\n",
       "      <th>5</th>\n",
       "      <td>007bb89e-1b35-4392-84c9-c4248197157b</td>\n",
       "      <td>1</td>\n",
       "      <td>1</td>\n",
       "      <td>13.0</td>\n",
       "      <td>1.0</td>\n",
       "      <td>1.0</td>\n",
       "    </tr>\n",
       "    <tr>\n",
       "      <th>6</th>\n",
       "      <td>0081cb57-7415-430e-a867-929319021a16</td>\n",
       "      <td>1</td>\n",
       "      <td>1</td>\n",
       "      <td>9.0</td>\n",
       "      <td>0.0</td>\n",
       "      <td>5.0</td>\n",
       "    </tr>\n",
       "    <tr>\n",
       "      <th>8</th>\n",
       "      <td>00cc5c06-3119-4761-b012-2d6e30054d9b</td>\n",
       "      <td>0</td>\n",
       "      <td>0</td>\n",
       "      <td>89.0</td>\n",
       "      <td>4.0</td>\n",
       "      <td>17.0</td>\n",
       "    </tr>\n",
       "    <tr>\n",
       "      <th>...</th>\n",
       "      <td>...</td>\n",
       "      <td>...</td>\n",
       "      <td>...</td>\n",
       "      <td>...</td>\n",
       "      <td>...</td>\n",
       "      <td>...</td>\n",
       "    </tr>\n",
       "    <tr>\n",
       "      <th>4822</th>\n",
       "      <td>ff5a14b2-b74b-4c55-ab12-302c6869664a</td>\n",
       "      <td>1</td>\n",
       "      <td>1</td>\n",
       "      <td>8.0</td>\n",
       "      <td>0.0</td>\n",
       "      <td>8.0</td>\n",
       "    </tr>\n",
       "    <tr>\n",
       "      <th>4823</th>\n",
       "      <td>ff5d04b7-12b0-4b05-967d-62322e6c83c1</td>\n",
       "      <td>1</td>\n",
       "      <td>1</td>\n",
       "      <td>22.0</td>\n",
       "      <td>1.0</td>\n",
       "      <td>1.0</td>\n",
       "    </tr>\n",
       "    <tr>\n",
       "      <th>4825</th>\n",
       "      <td>ff844a5d-2fea-4218-9a7c-aee980e53b2d</td>\n",
       "      <td>0</td>\n",
       "      <td>1</td>\n",
       "      <td>21.0</td>\n",
       "      <td>0.0</td>\n",
       "      <td>2.0</td>\n",
       "    </tr>\n",
       "    <tr>\n",
       "      <th>4826</th>\n",
       "      <td>ff8bbc6d-6b53-4cfb-89ce-d3eeed8fb238</td>\n",
       "      <td>1</td>\n",
       "      <td>1</td>\n",
       "      <td>1.0</td>\n",
       "      <td>0.0</td>\n",
       "      <td>3.0</td>\n",
       "    </tr>\n",
       "    <tr>\n",
       "      <th>4828</th>\n",
       "      <td>ffd9677d-41cc-47ab-8e9d-5c49c10c6548</td>\n",
       "      <td>0</td>\n",
       "      <td>0</td>\n",
       "      <td>356.0</td>\n",
       "      <td>2.0</td>\n",
       "      <td>3.0</td>\n",
       "    </tr>\n",
       "  </tbody>\n",
       "</table>\n",
       "<p>3461 rows × 6 columns</p>\n",
       "</div>"
      ],
      "text/plain": [
       "                                   user_id  upgrade  discount_applied  seats  \\\n",
       "0     0031b10d-a3fb-4fa6-a27b-ea1ef8d5131b        0                 0    8.0   \n",
       "3     00503b30-79b8-4aed-aeb5-a91aca3053be        0                 0  117.0   \n",
       "5     007bb89e-1b35-4392-84c9-c4248197157b        1                 1   13.0   \n",
       "6     0081cb57-7415-430e-a867-929319021a16        1                 1    9.0   \n",
       "8     00cc5c06-3119-4761-b012-2d6e30054d9b        0                 0   89.0   \n",
       "...                                    ...      ...               ...    ...   \n",
       "4822  ff5a14b2-b74b-4c55-ab12-302c6869664a        1                 1    8.0   \n",
       "4823  ff5d04b7-12b0-4b05-967d-62322e6c83c1        1                 1   22.0   \n",
       "4825  ff844a5d-2fea-4218-9a7c-aee980e53b2d        0                 1   21.0   \n",
       "4826  ff8bbc6d-6b53-4cfb-89ce-d3eeed8fb238        1                 1    1.0   \n",
       "4828  ffd9677d-41cc-47ab-8e9d-5c49c10c6548        0                 0  356.0   \n",
       "\n",
       "      support_tickets  total  \n",
       "0                 0.0    4.0  \n",
       "3                 2.0    2.0  \n",
       "5                 1.0    1.0  \n",
       "6                 0.0    5.0  \n",
       "8                 4.0   17.0  \n",
       "...               ...    ...  \n",
       "4822              0.0    8.0  \n",
       "4823              1.0    1.0  \n",
       "4825              0.0    2.0  \n",
       "4826              0.0    3.0  \n",
       "4828              2.0    3.0  \n",
       "\n",
       "[3461 rows x 6 columns]"
      ]
     },
     "execution_count": 26,
     "metadata": {},
     "output_type": "execute_result"
    }
   ],
   "source": [
    "df"
   ]
  },
  {
   "cell_type": "markdown",
   "id": "d5a1d5b7-572b-4804-92fc-3a974085c4dc",
   "metadata": {},
   "source": [
    "## Fitting logistic regression model"
   ]
  },
  {
   "cell_type": "code",
   "execution_count": 28,
   "id": "b8fff684-ccde-4ccd-876e-16549f09b7db",
   "metadata": {},
   "outputs": [
    {
     "name": "stdout",
     "output_type": "stream",
     "text": [
      "              precision    recall  f1-score   support\n",
      "\n",
      "           0       0.70      0.57      0.63       454\n",
      "           1       0.61      0.73      0.67       412\n",
      "\n",
      "    accuracy                           0.65       866\n",
      "   macro avg       0.66      0.65      0.65       866\n",
      "weighted avg       0.66      0.65      0.65       866\n",
      "\n",
      "Optimization terminated successfully.\n",
      "         Current function value: 0.612027\n",
      "         Iterations 6\n",
      "                           Logit Regression Results                           \n",
      "==============================================================================\n",
      "Dep. Variable:                upgrade   No. Observations:                 2595\n",
      "Model:                          Logit   Df Residuals:                     2590\n",
      "Method:                           MLE   Df Model:                            4\n",
      "Date:                Sun, 14 Sep 2025   Pseudo R-squ.:                  0.1156\n",
      "Time:                        23:04:05   Log-Likelihood:                -1588.2\n",
      "converged:                       True   LL-Null:                       -1795.8\n",
      "Covariance Type:            nonrobust   LLR p-value:                 1.459e-88\n",
      "====================================================================================\n",
      "                       coef    std err          z      P>|z|      [0.025      0.975]\n",
      "------------------------------------------------------------------------------------\n",
      "const                0.5190      0.088      5.870      0.000       0.346       0.692\n",
      "discount_applied     0.7029      0.093      7.585      0.000       0.521       0.885\n",
      "seats                0.0041      0.001      3.317      0.001       0.002       0.007\n",
      "support_tickets     -0.2085      0.052     -4.023      0.000      -0.310      -0.107\n",
      "total               -0.2462      0.015    -16.196      0.000      -0.276      -0.216\n",
      "====================================================================================\n"
     ]
    }
   ],
   "source": [
    "x = df.iloc[:, 2:]\n",
    "y = df.iloc[:, 1]\n",
    "\n",
    "xtrain, xtest, ytrain, ytest = train_test_split(x, y, stratify=y, random_state = 0)\n",
    "model = LogisticRegression(solver='lbfgs', max_iter=10000, class_weight='balanced')\n",
    "model.fit(xtrain, ytrain)\n",
    "ypred = model.predict(xtest)\n",
    "\n",
    "print(classification_report(ytest, ypred))\n",
    "\n",
    "xtrain = sm.add_constant(xtrain)\n",
    "model = sm.Logit(ytrain, xtrain)\n",
    "result = model.fit()\n",
    "\n",
    "print(result.summary())"
   ]
  }
 ],
 "metadata": {
  "kernelspec": {
   "display_name": "Python 3 (ipykernel)",
   "language": "python",
   "name": "python3"
  },
  "language_info": {
   "codemirror_mode": {
    "name": "ipython",
    "version": 3
   },
   "file_extension": ".py",
   "mimetype": "text/x-python",
   "name": "python",
   "nbconvert_exporter": "python",
   "pygments_lexer": "ipython3",
   "version": "3.12.7"
  }
 },
 "nbformat": 4,
 "nbformat_minor": 5
}
