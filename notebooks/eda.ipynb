{
 "cells": [
  {
   "cell_type": "markdown",
   "id": "f777ace9",
   "metadata": {},
   "source": [
    "# Import Libraries"
   ]
  },
  {
   "cell_type": "code",
   "execution_count": 33,
   "id": "e99de80a",
   "metadata": {},
   "outputs": [],
   "source": [
    "import numpy as np\n",
    "import pandas as pd\n",
    "import matplotlib.pyplot as plt\n",
    "import seaborn as sns\n",
    "import sklearn\n",
    "import torch\n",
    "import torchvision\n",
    "import torchaudio\n",
    "import lightgbm as lgb\n",
    "import xgboost as xgb\n",
    "import imblearn\n",
    "import scipy\n",
    "import statsmodels.api as sm\n",
    "import openpyxl\n",
    "import shap\n",
    "import plotly\n",
    "import lifelines\n",
    "import optuna"
   ]
  },
  {
   "cell_type": "markdown",
   "id": "cc0346db",
   "metadata": {},
   "source": [
    "# Configs"
   ]
  },
  {
   "cell_type": "code",
   "execution_count": 34,
   "id": "c2ffcb46",
   "metadata": {},
   "outputs": [],
   "source": [
    "# Atlassian Brand Colours\n",
    "atlassian_colors = [\n",
    "    \"#0052CC\",  # Atlassian Blue (primary)\n",
    "    \"#2684FF\",  # Bright Blue\n",
    "    \"#57D9A3\",  # Green accent\n",
    "    \"#FFAB00\",  # Gold accent\n",
    "    \"#FF5630\",  # Red accent\n",
    "    \"#36B37E\",  # Secondary green\n",
    "    \"#6554C0\"   # Purple accent\n",
    "]\n",
    "\n",
    "# Set Global Theme\n",
    "sns.set_theme(\n",
    "    style=\"whitegrid\",\n",
    "    palette=atlassian_colors,\n",
    "    rc={\n",
    "        \"figure.figsize\": (10, 6),\n",
    "        \"axes.titlesize\": 18,\n",
    "        \"axes.labelsize\": 14,\n",
    "        \"xtick.labelsize\": 12,\n",
    "        \"ytick.labelsize\": 12,\n",
    "        \"legend.fontsize\": 12,\n",
    "        \"axes.edgecolor\": \"#DFE1E6\",  # Atlassian light gray\n",
    "        \"axes.linewidth\": 1.0,\n",
    "        \"axes.facecolor\": \"white\",\n",
    "        \"figure.facecolor\": \"white\"\n",
    "    }\n",
    ")"
   ]
  },
  {
   "cell_type": "markdown",
   "id": "4b9e2472",
   "metadata": {
    "vscode": {
     "languageId": "plaintext"
    }
   },
   "source": [
    "# Import datasets"
   ]
  },
  {
   "cell_type": "code",
   "execution_count": 35,
   "id": "220a2371",
   "metadata": {},
   "outputs": [],
   "source": [
    "billing_df = pd.read_csv(\"../datasets/billing.csv\")\n",
    "events_df = pd.read_csv(\"../datasets/events.csv\")\n",
    "sessions_df = pd.read_csv(\"../datasets/sessions.csv\")\n",
    "users_df = pd.read_csv(\"../datasets/users.csv\")"
   ]
  },
  {
   "cell_type": "markdown",
   "id": "971d41f6",
   "metadata": {},
   "source": [
    "# User Dataset EDA"
   ]
  },
  {
   "cell_type": "code",
   "execution_count": 36,
   "id": "3bf4c65a",
   "metadata": {},
   "outputs": [
    {
     "data": {
      "application/vnd.microsoft.datawrangler.viewer.v0+json": {
       "columns": [
        {
         "name": "index",
         "rawType": "int64",
         "type": "integer"
        },
        {
         "name": "user_id",
         "rawType": "object",
         "type": "string"
        },
        {
         "name": "signup_date",
         "rawType": "object",
         "type": "string"
        },
        {
         "name": "plan_tier",
         "rawType": "object",
         "type": "string"
        },
        {
         "name": "company_size",
         "rawType": "object",
         "type": "string"
        },
        {
         "name": "region",
         "rawType": "object",
         "type": "unknown"
        },
        {
         "name": "industry",
         "rawType": "object",
         "type": "string"
        },
        {
         "name": "acquisition_channel",
         "rawType": "object",
         "type": "string"
        },
        {
         "name": "is_enterprise",
         "rawType": "bool",
         "type": "boolean"
        },
        {
         "name": "churned_30d",
         "rawType": "int64",
         "type": "integer"
        },
        {
         "name": "churned_90d",
         "rawType": "int64",
         "type": "integer"
        },
        {
         "name": "downgraded",
         "rawType": "int64",
         "type": "integer"
        },
        {
         "name": "expansion_event",
         "rawType": "int64",
         "type": "integer"
        }
       ],
       "ref": "0ee0f658-4591-4ecb-9f29-a55ef987400d",
       "rows": [
        [
         "0",
         "f94d1824-8742-4000-8b6d-39d70958490b",
         "2024-05-13",
         "free",
         "11-50",
         "EU",
         "software",
         "seo",
         "False",
         "0",
         "0",
         "0",
         "1"
        ],
        [
         "1",
         "238bf0af-1f71-45e4-a47d-dcb5db33f71b",
         "2025-04-11",
         "standard",
         "1-10",
         null,
         "education",
         "seo",
         "False",
         "0",
         "0",
         "0",
         "0"
        ],
        [
         "2",
         "ccf8fc06-3c86-433c-8867-9cba0fda337b",
         "2024-10-28",
         "free",
         "1-10",
         "APAC",
         "transport",
         "partner",
         "False",
         "0",
         "0",
         "0",
         "1"
        ],
        [
         "3",
         "3e39c0ea-ebbf-43bc-abd5-ab92eff6fa10",
         "2024-05-17",
         "standard",
         "200+",
         "APAC",
         "software",
         "partner",
         "False",
         "0",
         "0",
         "0",
         "1"
        ],
        [
         "4",
         "9304dcbe-682d-41fa-8bfd-861559f9f58b",
         "2024-04-12",
         "free",
         "1-10",
         null,
         "software",
         "ads",
         "False",
         "0",
         "1",
         "0",
         "1"
        ],
        [
         "5",
         "9de7eaf6-bcb3-4bd4-99a9-b3ece69c01d9",
         "2024-02-21",
         "standard",
         "51-200",
         "APAC",
         "energy",
         "partner",
         "False",
         "0",
         "1",
         "0",
         "1"
        ],
        [
         "6",
         "9c676e34-3e38-4740-8264-1641fe0f6be9",
         "2024-06-01",
         "standard",
         "1-10",
         "APAC",
         "transport",
         "partner",
         "False",
         "0",
         "0",
         "0",
         "1"
        ],
        [
         "7",
         "3ea81032-dd9b-4ce2-bdf4-6a99c01fcff0",
         "2025-05-12",
         "free",
         "200+",
         null,
         "energy",
         "outbound",
         "False",
         "0",
         "0",
         "0",
         "0"
        ],
        [
         "8",
         "5e9df73e-052e-402d-abdf-940f20f4d440",
         "2024-09-02",
         "standard",
         "11-50",
         "EU",
         "retail",
         "partner",
         "False",
         "0",
         "0",
         "0",
         "0"
        ],
        [
         "9",
         "12de9c20-5bd4-4251-adde-dd07eaa82e8c",
         "2024-12-27",
         "free",
         "11-50",
         "EU",
         "finance",
         "seo",
         "False",
         "0",
         "0",
         "0",
         "1"
        ],
        [
         "10",
         "904f47f7-6f21-41b9-b031-86dd264376b3",
         "2025-05-04",
         "free",
         "51-200",
         null,
         "transport",
         "partner",
         "False",
         "0",
         "0",
         "0",
         "0"
        ],
        [
         "11",
         "c245c942-db9b-4a58-8722-7f52320ec347",
         "2024-04-28",
         "free",
         "11-50",
         null,
         "education",
         "partner",
         "False",
         "0",
         "1",
         "0",
         "1"
        ],
        [
         "12",
         "0b328ef5-0a2c-45ff-968b-71f8876ad6bf",
         "2025-02-07",
         "standard",
         "11-50",
         null,
         "software",
         "seo",
         "False",
         "1",
         "1",
         "0",
         "1"
        ],
        [
         "13",
         "92e54b19-3423-4755-93dd-5631844498eb",
         "2024-05-10",
         "free",
         "11-50",
         "APAC",
         "healthcare",
         "seo",
         "False",
         "0",
         "0",
         "0",
         "1"
        ],
        [
         "14",
         "13ff96c3-396e-44ad-a7f8-24c8f0d1350d",
         "2024-06-10",
         "standard",
         "11-50",
         null,
         "telecom",
         "ads",
         "False",
         "0",
         "0",
         "0",
         "1"
        ],
        [
         "15",
         "8a6794f2-2158-4be4-a8fb-bf902f16e16b",
         "2024-12-05",
         "free",
         "51-200",
         "LATAM",
         "transport",
         "seo",
         "False",
         "0",
         "0",
         "0",
         "1"
        ],
        [
         "16",
         "9b2af735-7971-4bd1-9b3f-d6345c251f85",
         "2025-01-09",
         "free",
         "1-10",
         "APAC",
         "energy",
         "ads",
         "False",
         "0",
         "1",
         "0",
         "1"
        ],
        [
         "17",
         "cca57714-3aab-4644-9b5d-a7166c408368",
         "2025-06-06",
         "free",
         "51-200",
         null,
         "transport",
         "partner",
         "False",
         "0",
         "0",
         "0",
         "0"
        ],
        [
         "18",
         "71c3e590-ac99-45eb-bde2-c6244667245e",
         "2025-03-20",
         "standard",
         "11-50",
         "APAC",
         "education",
         "seo",
         "False",
         "0",
         "0",
         "0",
         "0"
        ],
        [
         "19",
         "d0555a61-01e2-4018-99e9-409f4d9ed718",
         "2025-02-20",
         "free",
         "1-10",
         null,
         "finance",
         "partner",
         "False",
         "0",
         "0",
         "0",
         "1"
        ],
        [
         "20",
         "9ba0dd35-1ef8-455b-b58f-fa6eb294a573",
         "2024-08-10",
         "premium",
         "1-10",
         null,
         "energy",
         "ads",
         "False",
         "0",
         "0",
         "0",
         "1"
        ],
        [
         "21",
         "cb50662c-fd0a-4f34-97cd-21889daea5ba",
         "2024-11-03",
         "standard",
         "51-200",
         "LATAM",
         "education",
         "seo",
         "False",
         "0",
         "0",
         "0",
         "0"
        ],
        [
         "22",
         "a4c9a3d1-3c39-4032-9aa8-472b800d4706",
         "2024-07-10",
         "standard",
         "200+",
         null,
         "retail",
         "outbound",
         "True",
         "0",
         "1",
         "0",
         "0"
        ],
        [
         "23",
         "be03b649-cf39-4d32-8f00-1f815f37dd48",
         "2025-05-05",
         "free",
         "11-50",
         "EU",
         "telecom",
         "outbound",
         "False",
         "0",
         "0",
         "0",
         "1"
        ],
        [
         "24",
         "43abfdef-959d-4bca-8cab-7fcde47674f8",
         "2024-12-10",
         "free",
         "1-10",
         "APAC",
         "transport",
         "ads",
         "False",
         "1",
         "0",
         "0",
         "1"
        ],
        [
         "25",
         "c2cb519d-ac2b-4ca3-8b26-5903b1ff1117",
         "2024-02-22",
         "premium",
         "1-10",
         "APAC",
         "media",
         "ads",
         "False",
         "0",
         "1",
         "0",
         "1"
        ],
        [
         "26",
         "a4ea3ea4-9428-4dae-80ee-f33c043dda21",
         "2024-10-10",
         "standard",
         "200+",
         null,
         "transport",
         "seo",
         "True",
         "0",
         "1",
         "0",
         "0"
        ],
        [
         "27",
         "49e6065a-4e19-494e-ad3e-72624f8776f6",
         "2025-05-20",
         "free",
         "11-50",
         "EU",
         "retail",
         "ads",
         "False",
         "0",
         "1",
         "0",
         "1"
        ],
        [
         "28",
         "a44b8970-3fec-47df-b07e-467e7ae8349f",
         "2024-03-30",
         "premium",
         "51-200",
         "EU",
         "finance",
         "ads",
         "False",
         "0",
         "0",
         "0",
         "0"
        ],
        [
         "29",
         "7b182f04-f51b-4b1e-9ae5-041b11ecb7e1",
         "2025-06-25",
         "free",
         "51-200",
         null,
         "healthcare",
         "seo",
         "False",
         "0",
         "0",
         "0",
         "0"
        ],
        [
         "30",
         "9a9f4efd-a9b8-4c08-b6d9-ab2f6fae50c3",
         "2025-05-21",
         "premium",
         "1-10",
         null,
         "healthcare",
         "outbound",
         "False",
         "0",
         "0",
         "0",
         "1"
        ],
        [
         "31",
         "ce843e44-c685-4588-9e15-997e3112ec54",
         "2024-08-08",
         "free",
         "11-50",
         null,
         "telecom",
         "outbound",
         "False",
         "0",
         "1",
         "0",
         "1"
        ],
        [
         "32",
         "8ead262d-5a53-4c2a-b897-8676f5bad6f5",
         "2024-10-01",
         "standard",
         "51-200",
         "APAC",
         "telecom",
         "partner",
         "False",
         "0",
         "1",
         "1",
         "0"
        ],
        [
         "33",
         "e2499822-cb9e-43ba-94cf-8e6c401dc77b",
         "2025-06-19",
         "standard",
         "51-200",
         null,
         "finance",
         "partner",
         "False",
         "0",
         "0",
         "0",
         "0"
        ],
        [
         "34",
         "f2668b41-d97e-47a5-9a36-c5055a819df0",
         "2024-06-10",
         "free",
         "200+",
         "APAC",
         "education",
         "seo",
         "False",
         "0",
         "1",
         "0",
         "0"
        ],
        [
         "35",
         "b372f024-4552-4425-b4cc-2648659c34d1",
         "2025-05-30",
         "standard",
         "11-50",
         null,
         "transport",
         "partner",
         "False",
         "0",
         "0",
         "0",
         "0"
        ],
        [
         "36",
         "55d94d74-fc7d-45d5-aab5-eefc4685c668",
         "2024-02-21",
         "free",
         "1-10",
         null,
         "retail",
         "outbound",
         "False",
         "0",
         "1",
         "0",
         "1"
        ],
        [
         "37",
         "6f8f6f68-4f76-465f-814f-1a3e6e504ad9",
         "2024-07-16",
         "standard",
         "1-10",
         "EU",
         "finance",
         "outbound",
         "False",
         "0",
         "1",
         "0",
         "1"
        ],
        [
         "38",
         "0e33f86f-83c6-43ba-80d6-031970be7d64",
         "2024-10-31",
         "premium",
         "11-50",
         "APAC",
         "manufacturing",
         "partner",
         "False",
         "0",
         "0",
         "0",
         "0"
        ],
        [
         "39",
         "5723649c-daf6-4266-888c-e515ab6c3874",
         "2025-02-22",
         "free",
         "51-200",
         "EU",
         "finance",
         "ads",
         "False",
         "0",
         "1",
         "0",
         "0"
        ],
        [
         "40",
         "ed400c18-8a60-482d-bd63-e59788808075",
         "2024-12-12",
         "premium",
         "1-10",
         null,
         "education",
         "seo",
         "False",
         "0",
         "0",
         "0",
         "1"
        ],
        [
         "41",
         "d64fc896-1c80-4215-99ff-7cd37ba16904",
         "2024-02-14",
         "free",
         "51-200",
         "EU",
         "transport",
         "ads",
         "False",
         "1",
         "0",
         "0",
         "0"
        ],
        [
         "42",
         "f8e0a344-b14c-49a5-8168-3bb5b87188b8",
         "2024-09-29",
         "free",
         "200+",
         "EU",
         "finance",
         "seo",
         "False",
         "0",
         "0",
         "0",
         "0"
        ],
        [
         "43",
         "38390e0a-f250-454e-9e17-f1cab08d12c3",
         "2025-01-11",
         "free",
         "200+",
         null,
         "media",
         "partner",
         "False",
         "1",
         "0",
         "0",
         "0"
        ],
        [
         "44",
         "0a5320cd-e48b-4218-8a34-3a5f292fe959",
         "2025-01-05",
         "free",
         "51-200",
         "LATAM",
         "energy",
         "seo",
         "False",
         "0",
         "1",
         "0",
         "0"
        ],
        [
         "45",
         "6ca9597e-bac6-4a5d-8053-749f13ed51cc",
         "2024-05-02",
         "standard",
         "1-10",
         "APAC",
         "finance",
         "outbound",
         "False",
         "0",
         "0",
         "0",
         "1"
        ],
        [
         "46",
         "ab903086-511b-4c99-81b8-a7d3ae07a5b1",
         "2025-02-01",
         "standard",
         "1-10",
         null,
         "finance",
         "ads",
         "False",
         "0",
         "0",
         "0",
         "1"
        ],
        [
         "47",
         "d25d171b-f289-48ac-ac44-dbe4c88be24d",
         "2025-04-30",
         "standard",
         "200+",
         null,
         "retail",
         "outbound",
         "True",
         "0",
         "1",
         "0",
         "0"
        ],
        [
         "48",
         "6e02546d-0ee6-4462-927b-e85dc2f0b729",
         "2025-04-03",
         "free",
         "1-10",
         "APAC",
         "transport",
         "seo",
         "False",
         "0",
         "0",
         "0",
         "0"
        ],
        [
         "49",
         "a9556c8b-b4ea-4a68-95d7-d2089dde41a7",
         "2025-06-23",
         "standard",
         "1-10",
         "APAC",
         "media",
         "outbound",
         "False",
         "0",
         "0",
         "0",
         "1"
        ]
       ],
       "shape": {
        "columns": 12,
        "rows": 100000
       }
      },
      "text/html": [
       "<div>\n",
       "<style scoped>\n",
       "    .dataframe tbody tr th:only-of-type {\n",
       "        vertical-align: middle;\n",
       "    }\n",
       "\n",
       "    .dataframe tbody tr th {\n",
       "        vertical-align: top;\n",
       "    }\n",
       "\n",
       "    .dataframe thead th {\n",
       "        text-align: right;\n",
       "    }\n",
       "</style>\n",
       "<table border=\"1\" class=\"dataframe\">\n",
       "  <thead>\n",
       "    <tr style=\"text-align: right;\">\n",
       "      <th></th>\n",
       "      <th>user_id</th>\n",
       "      <th>signup_date</th>\n",
       "      <th>plan_tier</th>\n",
       "      <th>company_size</th>\n",
       "      <th>region</th>\n",
       "      <th>industry</th>\n",
       "      <th>acquisition_channel</th>\n",
       "      <th>is_enterprise</th>\n",
       "      <th>churned_30d</th>\n",
       "      <th>churned_90d</th>\n",
       "      <th>downgraded</th>\n",
       "      <th>expansion_event</th>\n",
       "    </tr>\n",
       "  </thead>\n",
       "  <tbody>\n",
       "    <tr>\n",
       "      <th>0</th>\n",
       "      <td>f94d1824-8742-4000-8b6d-39d70958490b</td>\n",
       "      <td>2024-05-13</td>\n",
       "      <td>free</td>\n",
       "      <td>11-50</td>\n",
       "      <td>EU</td>\n",
       "      <td>software</td>\n",
       "      <td>seo</td>\n",
       "      <td>False</td>\n",
       "      <td>0</td>\n",
       "      <td>0</td>\n",
       "      <td>0</td>\n",
       "      <td>1</td>\n",
       "    </tr>\n",
       "    <tr>\n",
       "      <th>1</th>\n",
       "      <td>238bf0af-1f71-45e4-a47d-dcb5db33f71b</td>\n",
       "      <td>2025-04-11</td>\n",
       "      <td>standard</td>\n",
       "      <td>1-10</td>\n",
       "      <td>NaN</td>\n",
       "      <td>education</td>\n",
       "      <td>seo</td>\n",
       "      <td>False</td>\n",
       "      <td>0</td>\n",
       "      <td>0</td>\n",
       "      <td>0</td>\n",
       "      <td>0</td>\n",
       "    </tr>\n",
       "    <tr>\n",
       "      <th>2</th>\n",
       "      <td>ccf8fc06-3c86-433c-8867-9cba0fda337b</td>\n",
       "      <td>2024-10-28</td>\n",
       "      <td>free</td>\n",
       "      <td>1-10</td>\n",
       "      <td>APAC</td>\n",
       "      <td>transport</td>\n",
       "      <td>partner</td>\n",
       "      <td>False</td>\n",
       "      <td>0</td>\n",
       "      <td>0</td>\n",
       "      <td>0</td>\n",
       "      <td>1</td>\n",
       "    </tr>\n",
       "    <tr>\n",
       "      <th>3</th>\n",
       "      <td>3e39c0ea-ebbf-43bc-abd5-ab92eff6fa10</td>\n",
       "      <td>2024-05-17</td>\n",
       "      <td>standard</td>\n",
       "      <td>200+</td>\n",
       "      <td>APAC</td>\n",
       "      <td>software</td>\n",
       "      <td>partner</td>\n",
       "      <td>False</td>\n",
       "      <td>0</td>\n",
       "      <td>0</td>\n",
       "      <td>0</td>\n",
       "      <td>1</td>\n",
       "    </tr>\n",
       "    <tr>\n",
       "      <th>4</th>\n",
       "      <td>9304dcbe-682d-41fa-8bfd-861559f9f58b</td>\n",
       "      <td>2024-04-12</td>\n",
       "      <td>free</td>\n",
       "      <td>1-10</td>\n",
       "      <td>NaN</td>\n",
       "      <td>software</td>\n",
       "      <td>ads</td>\n",
       "      <td>False</td>\n",
       "      <td>0</td>\n",
       "      <td>1</td>\n",
       "      <td>0</td>\n",
       "      <td>1</td>\n",
       "    </tr>\n",
       "    <tr>\n",
       "      <th>...</th>\n",
       "      <td>...</td>\n",
       "      <td>...</td>\n",
       "      <td>...</td>\n",
       "      <td>...</td>\n",
       "      <td>...</td>\n",
       "      <td>...</td>\n",
       "      <td>...</td>\n",
       "      <td>...</td>\n",
       "      <td>...</td>\n",
       "      <td>...</td>\n",
       "      <td>...</td>\n",
       "      <td>...</td>\n",
       "    </tr>\n",
       "    <tr>\n",
       "      <th>99995</th>\n",
       "      <td>e7e9d70c-478e-4d57-982a-53c98a175328</td>\n",
       "      <td>2024-09-17</td>\n",
       "      <td>premium</td>\n",
       "      <td>51-200</td>\n",
       "      <td>NaN</td>\n",
       "      <td>retail</td>\n",
       "      <td>partner</td>\n",
       "      <td>True</td>\n",
       "      <td>0</td>\n",
       "      <td>0</td>\n",
       "      <td>0</td>\n",
       "      <td>0</td>\n",
       "    </tr>\n",
       "    <tr>\n",
       "      <th>99996</th>\n",
       "      <td>1b74fc26-9c01-4aeb-95db-587abfda6e73</td>\n",
       "      <td>2024-04-29</td>\n",
       "      <td>free</td>\n",
       "      <td>11-50</td>\n",
       "      <td>NaN</td>\n",
       "      <td>finance</td>\n",
       "      <td>partner</td>\n",
       "      <td>False</td>\n",
       "      <td>0</td>\n",
       "      <td>1</td>\n",
       "      <td>0</td>\n",
       "      <td>1</td>\n",
       "    </tr>\n",
       "    <tr>\n",
       "      <th>99997</th>\n",
       "      <td>c209e590-7bcc-4aff-b3cd-c9c498491c22</td>\n",
       "      <td>2024-11-24</td>\n",
       "      <td>free</td>\n",
       "      <td>1-10</td>\n",
       "      <td>NaN</td>\n",
       "      <td>transport</td>\n",
       "      <td>seo</td>\n",
       "      <td>False</td>\n",
       "      <td>0</td>\n",
       "      <td>0</td>\n",
       "      <td>0</td>\n",
       "      <td>1</td>\n",
       "    </tr>\n",
       "    <tr>\n",
       "      <th>99998</th>\n",
       "      <td>06bde50d-e9b3-4db9-8353-cf0279d0060b</td>\n",
       "      <td>2025-05-01</td>\n",
       "      <td>premium</td>\n",
       "      <td>11-50</td>\n",
       "      <td>APAC</td>\n",
       "      <td>manufacturing</td>\n",
       "      <td>seo</td>\n",
       "      <td>False</td>\n",
       "      <td>0</td>\n",
       "      <td>0</td>\n",
       "      <td>0</td>\n",
       "      <td>0</td>\n",
       "    </tr>\n",
       "    <tr>\n",
       "      <th>99999</th>\n",
       "      <td>2bebcb3d-bead-492a-97e3-1346173ee638</td>\n",
       "      <td>2024-10-08</td>\n",
       "      <td>free</td>\n",
       "      <td>11-50</td>\n",
       "      <td>EU</td>\n",
       "      <td>software</td>\n",
       "      <td>partner</td>\n",
       "      <td>False</td>\n",
       "      <td>0</td>\n",
       "      <td>0</td>\n",
       "      <td>0</td>\n",
       "      <td>1</td>\n",
       "    </tr>\n",
       "  </tbody>\n",
       "</table>\n",
       "<p>100000 rows × 12 columns</p>\n",
       "</div>"
      ],
      "text/plain": [
       "                                    user_id signup_date plan_tier  \\\n",
       "0      f94d1824-8742-4000-8b6d-39d70958490b  2024-05-13      free   \n",
       "1      238bf0af-1f71-45e4-a47d-dcb5db33f71b  2025-04-11  standard   \n",
       "2      ccf8fc06-3c86-433c-8867-9cba0fda337b  2024-10-28      free   \n",
       "3      3e39c0ea-ebbf-43bc-abd5-ab92eff6fa10  2024-05-17  standard   \n",
       "4      9304dcbe-682d-41fa-8bfd-861559f9f58b  2024-04-12      free   \n",
       "...                                     ...         ...       ...   \n",
       "99995  e7e9d70c-478e-4d57-982a-53c98a175328  2024-09-17   premium   \n",
       "99996  1b74fc26-9c01-4aeb-95db-587abfda6e73  2024-04-29      free   \n",
       "99997  c209e590-7bcc-4aff-b3cd-c9c498491c22  2024-11-24      free   \n",
       "99998  06bde50d-e9b3-4db9-8353-cf0279d0060b  2025-05-01   premium   \n",
       "99999  2bebcb3d-bead-492a-97e3-1346173ee638  2024-10-08      free   \n",
       "\n",
       "      company_size region       industry acquisition_channel  is_enterprise  \\\n",
       "0            11-50     EU       software                 seo          False   \n",
       "1             1-10    NaN      education                 seo          False   \n",
       "2             1-10   APAC      transport             partner          False   \n",
       "3             200+   APAC       software             partner          False   \n",
       "4             1-10    NaN       software                 ads          False   \n",
       "...            ...    ...            ...                 ...            ...   \n",
       "99995       51-200    NaN         retail             partner           True   \n",
       "99996        11-50    NaN        finance             partner          False   \n",
       "99997         1-10    NaN      transport                 seo          False   \n",
       "99998        11-50   APAC  manufacturing                 seo          False   \n",
       "99999        11-50     EU       software             partner          False   \n",
       "\n",
       "       churned_30d  churned_90d  downgraded  expansion_event  \n",
       "0                0            0           0                1  \n",
       "1                0            0           0                0  \n",
       "2                0            0           0                1  \n",
       "3                0            0           0                1  \n",
       "4                0            1           0                1  \n",
       "...            ...          ...         ...              ...  \n",
       "99995            0            0           0                0  \n",
       "99996            0            1           0                1  \n",
       "99997            0            0           0                1  \n",
       "99998            0            0           0                0  \n",
       "99999            0            0           0                1  \n",
       "\n",
       "[100000 rows x 12 columns]"
      ]
     },
     "execution_count": 36,
     "metadata": {},
     "output_type": "execute_result"
    }
   ],
   "source": [
    "users_df"
   ]
  },
  {
   "cell_type": "code",
   "execution_count": 37,
   "id": "0eabd8a2",
   "metadata": {},
   "outputs": [
    {
     "data": {
      "text/plain": [
       "(100000, 12)"
      ]
     },
     "execution_count": 37,
     "metadata": {},
     "output_type": "execute_result"
    }
   ],
   "source": [
    "users_df.shape"
   ]
  },
  {
   "cell_type": "code",
   "execution_count": 38,
   "id": "19dbf685",
   "metadata": {},
   "outputs": [
    {
     "data": {
      "text/plain": [
       "Index(['user_id', 'signup_date', 'plan_tier', 'company_size', 'region',\n",
       "       'industry', 'acquisition_channel', 'is_enterprise', 'churned_30d',\n",
       "       'churned_90d', 'downgraded', 'expansion_event'],\n",
       "      dtype='object')"
      ]
     },
     "execution_count": 38,
     "metadata": {},
     "output_type": "execute_result"
    }
   ],
   "source": [
    "users_df.columns"
   ]
  },
  {
   "cell_type": "markdown",
   "id": "42fdf48e",
   "metadata": {},
   "source": [
    "## Users over time"
   ]
  },
  {
   "cell_type": "code",
   "execution_count": 39,
   "id": "53861fb3",
   "metadata": {},
   "outputs": [
    {
     "name": "stdout",
     "output_type": "stream",
     "text": [
      "min    2024-02-01\n",
      "max    2025-06-30\n",
      "Name: signup_date, dtype: object\n"
     ]
    }
   ],
   "source": [
    "# Find range of signup dates\n",
    "print(users_df['signup_date'].agg([\"min\",\"max\"]))"
   ]
  },
  {
   "cell_type": "code",
   "execution_count": 40,
   "id": "98215e69",
   "metadata": {},
   "outputs": [
    {
     "data": {
      "text/plain": [
       "100000"
      ]
     },
     "execution_count": 40,
     "metadata": {},
     "output_type": "execute_result"
    }
   ],
   "source": [
    "users_df[\"user_id\"].nunique()"
   ]
  },
  {
   "cell_type": "code",
   "execution_count": 41,
   "id": "020ba986",
   "metadata": {},
   "outputs": [
    {
     "data": {
      "text/plain": [
       "516"
      ]
     },
     "execution_count": 41,
     "metadata": {},
     "output_type": "execute_result"
    }
   ],
   "source": [
    "users_df[\"signup_date\"].nunique()"
   ]
  },
  {
   "cell_type": "code",
   "execution_count": 42,
   "id": "b5c6b533",
   "metadata": {},
   "outputs": [],
   "source": [
    "users_df[\"signup_date\"] = pd.to_datetime(users_df[\"signup_date\"])"
   ]
  },
  {
   "cell_type": "code",
   "execution_count": 43,
   "id": "47e03773",
   "metadata": {},
   "outputs": [
    {
     "name": "stderr",
     "output_type": "stream",
     "text": [
      "/var/folders/83/z6dh6x592f7cw62tg8hz97000000gp/T/ipykernel_12064/3669620185.py:6: FutureWarning: 'M' is deprecated and will be removed in a future version, please use 'ME' instead.\n",
      "  .resample(\"M\")   # \"W\" for weekly, \"M\" for monthly\n"
     ]
    },
    {
     "data": {
      "image/png": "[encoded data removed]",
      "text/plain": [
       "<Figure size 1000x500 with 1 Axes>"
      ]
     },
     "metadata": {},
     "output_type": "display_data"
    }
   ],
   "source": [
    "import matplotlib.dates as mdates\n",
    "\n",
    "# aggregate by month\n",
    "monthly = (\n",
    "    users_df.set_index(\"signup_date\")\n",
    "            .resample(\"M\")   # \"W\" for weekly, \"M\" for monthly\n",
    "            .size()\n",
    "            .rename(\"signups\")\n",
    ")\n",
    "\n",
    "fig, ax = plt.subplots(figsize=(10, 5))\n",
    "sns.lineplot(x=monthly.index, y=monthly.values, ax=ax, marker=\"o\", color=\"#2684FF\")\n",
    "\n",
    "ax.set_title(\"User signups per month\")\n",
    "ax.set_xlabel(\"Month\")\n",
    "ax.set_ylabel(\"Signups\")\n",
    "\n",
    "ax.xaxis.set_major_locator(mdates.MonthLocator(interval=2))\n",
    "ax.xaxis.set_major_formatter(mdates.DateFormatter(\"%b %Y\"))\n",
    "ax.xaxis.grid(False) \n",
    "plt.xticks(rotation=45)  \n",
    "plt.tight_layout()\n",
    "plt.show()\n"
   ]
  },
  {
   "cell_type": "markdown",
   "id": "cff03fe7",
   "metadata": {},
   "source": [
    "Large variance in user signups"
   ]
  },
  {
   "cell_type": "markdown",
   "id": "5b176fc6",
   "metadata": {},
   "source": [
    "## Users by region"
   ]
  },
  {
   "cell_type": "code",
   "execution_count": 44,
   "id": "86bdc45c",
   "metadata": {},
   "outputs": [
    {
     "name": "stdout",
     "output_type": "stream",
     "text": [
      "  region  signups\n",
      "0   APAC    27810\n",
      "1     EU    25960\n",
      "2  LATAM     8006\n"
     ]
    }
   ],
   "source": [
    "# Count total signups by region\n",
    "region_counts = users_df[\"region\"].value_counts().reset_index()\n",
    "region_counts.columns = [\"region\", \"signups\"]\n",
    "print(region_counts)"
   ]
  },
  {
   "cell_type": "code",
   "execution_count": 45,
   "id": "584d2a1e",
   "metadata": {},
   "outputs": [
    {
     "name": "stderr",
     "output_type": "stream",
     "text": [
      "/var/folders/83/z6dh6x592f7cw62tg8hz97000000gp/T/ipykernel_12064/3094377692.py:2: FutureWarning: \n",
      "\n",
      "Passing `palette` without assigning `hue` is deprecated and will be removed in v0.14.0. Assign the `x` variable to `hue` and set `legend=False` for the same effect.\n",
      "\n",
      "  sns.barplot(x=\"region\", y=\"signups\", data=region_counts, ax=ax, palette=\"Blues\")\n"
     ]
    },
    {
     "data": {
      "image/png": "[encoded data removed]",
      "text/plain": [
       "<Figure size 800x500 with 1 Axes>"
      ]
     },
     "metadata": {},
     "output_type": "display_data"
    }
   ],
   "source": [
    "fig, ax = plt.subplots(figsize=(8, 5))\n",
    "sns.barplot(x=\"region\", y=\"signups\", data=region_counts, ax=ax, palette=\"Blues\")\n",
    "\n",
    "ax.set_title(\"Total User Signups by Region\", fontsize=16, weight=\"bold\")\n",
    "ax.set_xlabel(\"Region\")\n",
    "ax.set_ylabel(\"Signups\")\n",
    "plt.xticks(rotation=30)\n",
    "plt.tight_layout()\n",
    "plt.show()"
   ]
  },
  {
   "cell_type": "code",
   "execution_count": 46,
   "id": "2f90c5ea",
   "metadata": {},
   "outputs": [
    {
     "name": "stdout",
     "output_type": "stream",
     "text": [
      "        industry  signups\n",
      "0      education    10129\n",
      "1  manufacturing    10126\n",
      "2     healthcare    10107\n",
      "3       software    10029\n",
      "4        finance    10012\n",
      "5      transport    10010\n",
      "6          media     9959\n",
      "7         energy     9941\n",
      "8        telecom     9852\n",
      "9         retail     9835\n"
     ]
    }
   ],
   "source": [
    "industry_counts = users_df['industry'].value_counts().reset_index()\n",
    "industry_counts.columns = [\"industry\", \"signups\"]\n",
    "print(industry_counts)\n"
   ]
  },
  {
   "cell_type": "code",
   "execution_count": 47,
   "id": "5047582b",
   "metadata": {},
   "outputs": [
    {
     "name": "stderr",
     "output_type": "stream",
     "text": [
      "/var/folders/83/z6dh6x592f7cw62tg8hz97000000gp/T/ipykernel_12064/845446022.py:2: FutureWarning: \n",
      "\n",
      "Passing `palette` without assigning `hue` is deprecated and will be removed in v0.14.0. Assign the `x` variable to `hue` and set `legend=False` for the same effect.\n",
      "\n",
      "  sns.barplot(x=\"industry\", y=\"signups\", data=industry_counts, ax=ax, palette=\"Blues\")\n"
     ]
    },
    {
     "data": {
      "image/png": "[encoded data removed]",
      "text/plain": [
       "<Figure size 800x500 with 1 Axes>"
      ]
     },
     "metadata": {},
     "output_type": "display_data"
    }
   ],
   "source": [
    "fig, ax = plt.subplots(figsize=(8, 5))\n",
    "sns.barplot(x=\"industry\", y=\"signups\", data=industry_counts, ax=ax, palette=\"Blues\")\n",
    "\n",
    "ax.set_title(\"Total User Signups by Region\", fontsize=16, weight=\"bold\")\n",
    "ax.set_xlabel(\"Region\")\n",
    "ax.set_ylabel(\"Signups\")\n",
    "plt.xticks(rotation=30)\n",
    "plt.tight_layout()\n",
    "plt.show()"
   ]
  },
  {
   "cell_type": "markdown",
   "id": "a13ca8de",
   "metadata": {},
   "source": [
    "Seems like all industries have relatively similar usage.  "
   ]
  },
  {
   "cell_type": "markdown",
   "id": "ffe2acc1",
   "metadata": {},
   "source": [
    "## Channel"
   ]
  },
  {
   "cell_type": "code",
   "execution_count": 48,
   "id": "24be9d06",
   "metadata": {},
   "outputs": [
    {
     "name": "stderr",
     "output_type": "stream",
     "text": [
      "/var/folders/83/z6dh6x592f7cw62tg8hz97000000gp/T/ipykernel_12064/659570305.py:9: FutureWarning: \n",
      "\n",
      "Passing `palette` without assigning `hue` is deprecated and will be removed in v0.14.0. Assign the `x` variable to `hue` and set `legend=False` for the same effect.\n",
      "\n",
      "  sns.barplot(data=channel_counts, x=\"channel\", y=\"signups\", ax=ax, palette=\"Blues_d\")\n"
     ]
    },
    {
     "data": {
      "image/png": "[encoded data removed]",
      "text/plain": [
       "<Figure size 900x500 with 1 Axes>"
      ]
     },
     "metadata": {},
     "output_type": "display_data"
    }
   ],
   "source": [
    "channel_counts = (\n",
    "    users_df[\"acquisition_channel\"]\n",
    "    .value_counts()\n",
    "    .reset_index()\n",
    ")\n",
    "channel_counts.columns = [\"channel\", \"signups\"]\n",
    "\n",
    "fig, ax = plt.subplots(figsize=(9, 5))\n",
    "sns.barplot(data=channel_counts, x=\"channel\", y=\"signups\", ax=ax, palette=\"Blues_d\")\n",
    "\n",
    "ax.set_title(\"User Signups by Acquisition Channel\", fontsize=16, weight=\"bold\")\n",
    "ax.set_xlabel(\"Acquisition Channel\")\n",
    "ax.set_ylabel(\"Number of Users\")\n",
    "plt.xticks(rotation=30)\n",
    "plt.tight_layout()\n",
    "plt.show()"
   ]
  },
  {
   "cell_type": "markdown",
   "id": "f8c7669e",
   "metadata": {},
   "source": [
    "## Enterprise"
   ]
  },
  {
   "cell_type": "code",
   "execution_count": 49,
   "id": "1bb32b3b",
   "metadata": {},
   "outputs": [
    {
     "data": {
      "image/png": "[encoded data removed]",
      "text/plain": [
       "<Figure size 600x400 with 1 Axes>"
      ]
     },
     "metadata": {},
     "output_type": "display_data"
    }
   ],
   "source": [
    "fig, ax = plt.subplots(figsize=(6,4))\n",
    "sns.countplot(data=users_df, x=\"is_enterprise\", ax=ax)\n",
    "\n",
    "# Calculate percentages\n",
    "total = len(users_df)\n",
    "for p in ax.patches:\n",
    "    height = p.get_height()\n",
    "    percentage = f\"{100 * height/total:.1f}%\"\n",
    "    ax.text(\n",
    "        p.get_x() + p.get_width()/2.,   # x position (center of bar)\n",
    "        height,                         # y position (top of bar)\n",
    "        percentage,                     # text\n",
    "        ha=\"center\", va=\"bottom\", fontsize=12, weight=\"bold\"\n",
    "    )\n",
    "\n",
    "ax.set_title(\"Enterprise vs Non-Enterprise Users\")\n",
    "ax.set_xlabel(\"Is Enterprise?\")\n",
    "ax.set_ylabel(\"Number of Users\")\n",
    "plt.show()"
   ]
  },
  {
   "cell_type": "markdown",
   "id": "5012ce93",
   "metadata": {},
   "source": [
    "## User tier"
   ]
  },
  {
   "cell_type": "code",
   "execution_count": 50,
   "id": "c84eb2e7",
   "metadata": {},
   "outputs": [
    {
     "name": "stderr",
     "output_type": "stream",
     "text": [
      "/var/folders/83/z6dh6x592f7cw62tg8hz97000000gp/T/ipykernel_12064/1851484709.py:9: FutureWarning: \n",
      "\n",
      "Passing `palette` without assigning `hue` is deprecated and will be removed in v0.14.0. Assign the `x` variable to `hue` and set `legend=False` for the same effect.\n",
      "\n",
      "  sns.barplot(data=plan_tier_counts, x=\"plan_tier\", y=\"signups\", ax=ax, palette=\"Blues_d\")\n"
     ]
    },
    {
     "data": {
      "image/png": "[encoded data removed]",
      "text/plain": [
       "<Figure size 900x500 with 1 Axes>"
      ]
     },
     "metadata": {},
     "output_type": "display_data"
    }
   ],
   "source": [
    "plan_tier_counts = (\n",
    "    users_df[\"plan_tier\"]\n",
    "    .value_counts()\n",
    "    .reset_index()\n",
    ")\n",
    "plan_tier_counts.columns = [\"plan_tier\", \"signups\"]\n",
    "\n",
    "fig, ax = plt.subplots(figsize=(9, 5))\n",
    "sns.barplot(data=plan_tier_counts, x=\"plan_tier\", y=\"signups\", ax=ax, palette=\"Blues_d\")\n",
    "\n",
    "ax.set_title(\"User Signups by Plan tier\", fontsize=16, weight=\"bold\")\n",
    "ax.set_xlabel(\"Plan Tier\")\n",
    "ax.set_ylabel(\"Number of Users\")\n",
    "plt.xticks(rotation=30)\n",
    "plt.tight_layout()\n",
    "plt.show()"
   ]
  },
  {
   "cell_type": "markdown",
   "id": "0ddd4aef",
   "metadata": {},
   "source": [
    "most people are on free tier, mabye understand what makes them upgrade or downgrade"
   ]
  },
  {
   "cell_type": "code",
   "execution_count": 51,
   "id": "6db63c46",
   "metadata": {},
   "outputs": [
    {
     "data": {
      "image/png": "[encoded data removed]",
      "text/plain": [
       "<Figure size 600x400 with 1 Axes>"
      ]
     },
     "metadata": {},
     "output_type": "display_data"
    }
   ],
   "source": [
    "fig, ax = plt.subplots(figsize=(6,4))\n",
    "sns.countplot(data=users_df, x=\"downgraded\", ax=ax)\n",
    "\n",
    "# Calculate percentages\n",
    "total = len(users_df)\n",
    "for p in ax.patches:\n",
    "    height = p.get_height()\n",
    "    percentage = f\"{100 * height/total:.1f}%\"\n",
    "    ax.text(\n",
    "        p.get_x() + p.get_width()/2.,   # x position (center of bar)\n",
    "        height,                         # y position (top of bar)\n",
    "        percentage,                     # text\n",
    "        ha=\"center\", va=\"bottom\", fontsize=12, weight=\"bold\"\n",
    "    )\n",
    "\n",
    "ax.set_title(\"User Downgraded vs not Downgraded\")\n",
    "ax.set_xlabel(\"Is Downgraded?\")\n",
    "ax.set_ylabel(\"Number of Users\")\n",
    "plt.show()"
   ]
  },
  {
   "cell_type": "code",
   "execution_count": 52,
   "id": "fc0bf34c",
   "metadata": {},
   "outputs": [
    {
     "data": {
      "image/png": "[encoded data removed]",
      "text/plain": [
       "<Figure size 600x400 with 1 Axes>"
      ]
     },
     "metadata": {},
     "output_type": "display_data"
    }
   ],
   "source": [
    "fig, ax = plt.subplots(figsize=(6,4))\n",
    "sns.countplot(data=users_df, x=\"expansion_event\", ax=ax)\n",
    "\n",
    "# Calculate percentages\n",
    "total = len(users_df)\n",
    "for p in ax.patches:\n",
    "    height = p.get_height()\n",
    "    percentage = f\"{100 * height/total:.1f}%\"\n",
    "    ax.text(\n",
    "        p.get_x() + p.get_width()/2.,   # x position (center of bar)\n",
    "        height,                         # y position (top of bar)\n",
    "        percentage,                     # text\n",
    "        ha=\"center\", va=\"bottom\", fontsize=12, weight=\"bold\"\n",
    "    )\n",
    "\n",
    "ax.set_title(\"User Downgraded vs not Downgraded\")\n",
    "ax.set_xlabel(\"Is Downgraded?\")\n",
    "ax.set_ylabel(\"Number of Users\")\n",
    "plt.show()"
   ]
  },
  {
   "cell_type": "markdown",
   "id": "705d7dbe",
   "metadata": {},
   "source": [
    "# Session Dataset EDA"
   ]
  },
  {
   "cell_type": "code",
   "execution_count": null,
   "id": "2f2101e8",
   "metadata": {},
   "outputs": [],
   "source": []
  },
  {
   "cell_type": "markdown",
   "id": "0559bc4d",
   "metadata": {},
   "source": [
    "# Events Dataset EDA"
   ]
  },
  {
   "cell_type": "code",
   "execution_count": 53,
   "id": "d428868a",
   "metadata": {},
   "outputs": [
    {
     "name": "stdout",
     "output_type": "stream",
     "text": [
      "<class 'pandas.core.frame.DataFrame'>\n",
      "RangeIndex: 234329 entries, 0 to 234328\n",
      "Data columns (total 9 columns):\n",
      " #   Column        Non-Null Count   Dtype \n",
      "---  ------        --------------   ----- \n",
      " 0   event_id      234329 non-null  object\n",
      " 1   user_id       234329 non-null  object\n",
      " 2   session_id    234329 non-null  object\n",
      " 3   ts            234329 non-null  object\n",
      " 4   feature_name  234329 non-null  object\n",
      " 5   action        234329 non-null  object\n",
      " 6   duration_ms   234329 non-null  int64 \n",
      " 7   latency_ms    234329 non-null  int64 \n",
      " 8   success       234329 non-null  int64 \n",
      "dtypes: int64(3), object(6)\n",
      "memory usage: 16.1+ MB\n"
     ]
    }
   ],
   "source": [
    "events_df.info()"
   ]
  },
  {
   "cell_type": "code",
   "execution_count": 54,
   "id": "2ba87288",
   "metadata": {},
   "outputs": [
    {
     "data": {
      "application/vnd.microsoft.datawrangler.viewer.v0+json": {
       "columns": [
        {
         "name": "index",
         "rawType": "object",
         "type": "string"
        },
        {
         "name": "0",
         "rawType": "int64",
         "type": "integer"
        }
       ],
       "ref": "75966b42-a8a8-4e27-9b51-84c381788ba7",
       "rows": [
        [
         "event_id",
         "0"
        ],
        [
         "user_id",
         "0"
        ],
        [
         "session_id",
         "0"
        ],
        [
         "ts",
         "0"
        ],
        [
         "feature_name",
         "0"
        ],
        [
         "action",
         "0"
        ],
        [
         "duration_ms",
         "0"
        ],
        [
         "latency_ms",
         "0"
        ],
        [
         "success",
         "0"
        ]
       ],
       "shape": {
        "columns": 1,
        "rows": 9
       }
      },
      "text/plain": [
       "event_id        0\n",
       "user_id         0\n",
       "session_id      0\n",
       "ts              0\n",
       "feature_name    0\n",
       "action          0\n",
       "duration_ms     0\n",
       "latency_ms      0\n",
       "success         0\n",
       "dtype: int64"
      ]
     },
     "execution_count": 54,
     "metadata": {},
     "output_type": "execute_result"
    }
   ],
   "source": [
    "events_df.isnull().sum()"
   ]
  },
  {
   "cell_type": "code",
   "execution_count": 55,
   "id": "ec39fff5",
   "metadata": {},
   "outputs": [
    {
     "data": {
      "text/plain": [
       "np.int64(0)"
      ]
     },
     "execution_count": 55,
     "metadata": {},
     "output_type": "execute_result"
    }
   ],
   "source": [
    "events_df.duplicated().sum()"
   ]
  },
  {
   "cell_type": "code",
   "execution_count": 56,
   "id": "064ef1d9",
   "metadata": {},
   "outputs": [
    {
     "data": {
      "image/png": "[encoded data removed]",
      "text/plain": [
       "<Figure size 1000x500 with 1 Axes>"
      ]
     },
     "metadata": {},
     "output_type": "display_data"
    }
   ],
   "source": [
    "events_df[\"ts\"] = pd.to_datetime(events_df[\"ts\"])\n",
    "\n",
    "# Per week counts\n",
    "weekly_counts = (\n",
    "    events_df.set_index(\"ts\")\n",
    "    .resample(\"W\")\n",
    "    .size()\n",
    "    .reset_index(name=\"count\")\n",
    ")\n",
    "\n",
    "\n",
    "fig, ax = plt.subplots(figsize=(10, 5))\n",
    "sns.lineplot(data=weekly_counts, x=\"ts\", y=\"count\", ax=ax)\n",
    "\n",
    "ax.set_title(\"Number of Events per Week\")\n",
    "ax.set_xlabel(\"Week\")\n",
    "ax.set_ylabel(\"Event Count\")\n",
    "plt.xticks(rotation=30)\n",
    "plt.tight_layout()\n",
    "plt.show()"
   ]
  },
  {
   "cell_type": "code",
   "execution_count": null,
   "id": "13cb59cb",
   "metadata": {},
   "outputs": [],
   "source": [
    "Event activity has been steadily increasing, drop at the end from incomplete data."
   ]
  },
  {
   "cell_type": "markdown",
   "id": "bddd46ae",
   "metadata": {},
   "source": [
    "### How active are the users?"
   ]
  },
  {
   "cell_type": "code",
   "execution_count": 58,
   "id": "430a3360",
   "metadata": {},
   "outputs": [
    {
     "data": {
      "application/vnd.microsoft.datawrangler.viewer.v0+json": {
       "columns": [
        {
         "name": "index",
         "rawType": "int64",
         "type": "integer"
        },
        {
         "name": "event_id",
         "rawType": "object",
         "type": "string"
        }
       ],
       "ref": "7a7037c1-9d04-4e7c-943e-970b1040df2a",
       "rows": [
        [
         "0",
         "665ea739-d80e-4d68-b0be-67b74b79984a"
        ],
        [
         "1",
         "4259f36b-a4ec-41b2-9241-c2b90bf23f8c"
        ],
        [
         "2",
         "c819fc5b-2d79-455a-9685-5347dae03f68"
        ],
        [
         "3",
         "c0ea5e8e-7236-4cd6-ab25-6c97b7f22465"
        ],
        [
         "4",
         "96819e5e-edf0-4277-87c1-5c16235c9dff"
        ],
        [
         "5",
         "9406dd80-e05b-4cae-a3a5-39d74d80dbc4"
        ],
        [
         "6",
         "83759028-468a-434f-8d00-00be800b6fdf"
        ],
        [
         "7",
         "5e2ff867-513f-4e73-ad8a-419b7d5eb30c"
        ],
        [
         "8",
         "11105e14-7db2-4b0d-b0e3-6434933e76bf"
        ],
        [
         "9",
         "c6f9c398-53fc-41b2-970d-99a068bd4f55"
        ],
        [
         "10",
         "7bfb3d37-284c-4791-a839-d0ae73e133b0"
        ],
        [
         "11",
         "bb30066c-8b25-4367-a98f-12c074ca72fa"
        ],
        [
         "12",
         "c8956916-b571-46e6-bb0f-dfc4211f59e3"
        ],
        [
         "13",
         "3d1e3132-3d40-49c4-b823-012056af4833"
        ],
        [
         "14",
         "6f5fb39c-4c0d-4104-aea1-34e8fcd5fd53"
        ],
        [
         "15",
         "3f85d768-0de4-4f01-b917-f356859cfa95"
        ],
        [
         "16",
         "171578a3-697f-45fb-aa37-b3df2622ff83"
        ],
        [
         "17",
         "9e7caee4-29c0-4aa7-b3e0-e900eb61ea62"
        ],
        [
         "18",
         "6ac22158-bda7-46f4-91a2-97fd0287e41d"
        ],
        [
         "19",
         "84e9135b-8ea1-4d5f-80a6-6f5132c6dd25"
        ],
        [
         "20",
         "cd871a6e-f8ff-42cd-bfa0-3d7b98a7c4ae"
        ],
        [
         "21",
         "04c5de6c-e917-4aeb-8c49-24c67f886d32"
        ],
        [
         "22",
         "d6edfe76-8148-417c-b946-588f18e7c3a3"
        ],
        [
         "23",
         "a15861e5-de4b-4baf-87e9-2716e4906c36"
        ],
        [
         "24",
         "fd289815-5526-4a8a-b875-c9b9fcf9ae1d"
        ],
        [
         "25",
         "a4278ea2-8136-461b-a418-68c500d273bd"
        ],
        [
         "26",
         "7dd2aa4f-98f4-4953-b556-a3776de53ee3"
        ],
        [
         "27",
         "ef8bcc1d-29ef-4140-ad09-db7d1f33429f"
        ],
        [
         "28",
         "f664ade6-956d-42b4-bfe0-720a2489a495"
        ],
        [
         "29",
         "d400164d-43fa-4e06-8f45-fe7dda6c68fe"
        ],
        [
         "30",
         "e42069db-6976-4553-88c9-958a4e3e2203"
        ],
        [
         "31",
         "c41487a6-5386-44be-96e1-eec70abf9aed"
        ],
        [
         "32",
         "e21297b8-8452-4ef3-9821-c15a7a3e1390"
        ],
        [
         "33",
         "a909b67f-9ae0-4db3-be1a-4021c79a6249"
        ],
        [
         "34",
         "d8d16b0e-1706-42e6-80ce-5421ddd572ae"
        ],
        [
         "35",
         "06e4a4bd-fb36-42d7-b09f-29191e7743f7"
        ],
        [
         "36",
         "31651b75-27d1-46bc-9143-17d37374b810"
        ],
        [
         "37",
         "be40fa56-4d60-4530-af5c-3ca5b2f08662"
        ],
        [
         "38",
         "42a332df-bf97-40ef-ba59-f6d4bfaad12b"
        ],
        [
         "39",
         "e77ec350-9f06-4c22-98c2-b75c7e58fe8e"
        ],
        [
         "40",
         "8878203b-f4eb-4db4-93c3-a7765cfa8375"
        ],
        [
         "41",
         "ad801061-ab56-46a0-8d5f-a5c7efed3cfb"
        ],
        [
         "42",
         "56824881-551c-43b1-ad47-5f3668848ba4"
        ],
        [
         "43",
         "c53ee4ae-585b-4034-81c9-83f24fe2abc7"
        ],
        [
         "44",
         "baca9163-454e-48c9-84ae-338f4a07acc7"
        ],
        [
         "45",
         "2a9add9e-490b-4b7e-b0c9-afb1df794d46"
        ],
        [
         "46",
         "aaedbb32-d3ff-4153-ac4b-5e036f49564f"
        ],
        [
         "47",
         "ef6838c1-22d8-48c8-8652-408ec2b2d0fb"
        ],
        [
         "48",
         "e95cddea-afe0-4e1d-9ec3-ab8e7c3b0c47"
        ],
        [
         "49",
         "6ccb3505-5951-4d9a-9ae3-54ca724e2e21"
        ]
       ],
       "shape": {
        "columns": 1,
        "rows": 234329
       }
      },
      "text/plain": [
       "0         665ea739-d80e-4d68-b0be-67b74b79984a\n",
       "1         4259f36b-a4ec-41b2-9241-c2b90bf23f8c\n",
       "2         c819fc5b-2d79-455a-9685-5347dae03f68\n",
       "3         c0ea5e8e-7236-4cd6-ab25-6c97b7f22465\n",
       "4         96819e5e-edf0-4277-87c1-5c16235c9dff\n",
       "                          ...                 \n",
       "234324    4493c55b-9e2d-4f81-a5b4-6b34b4539d83\n",
       "234325    3df6c03f-3de8-4e6f-a392-3bee9bf72fdb\n",
       "234326    21ad6200-ffe7-46dd-8e67-75e57820c0d9\n",
       "234327    07c78acd-ffd1-434a-97fd-a759f37eafac\n",
       "234328    f1e90b20-a7f7-4950-a4bb-4c3e3f4d66a7\n",
       "Name: event_id, Length: 234329, dtype: object"
      ]
     },
     "execution_count": 58,
     "metadata": {},
     "output_type": "execute_result"
    }
   ],
   "source": [
    "events_df[\"event_id\"]"
   ]
  },
  {
   "cell_type": "code",
   "execution_count": null,
   "id": "8f0f3c65",
   "metadata": {},
   "outputs": [
    {
     "data": {
      "application/vnd.microsoft.datawrangler.viewer.v0+json": {
       "columns": [
        {
         "name": "index",
         "rawType": "object",
         "type": "string"
        },
        {
         "name": "event_id",
         "rawType": "float64",
         "type": "float"
        }
       ],
       "ref": "bee6db10-d8c4-4d05-bf8c-559ce2064a89",
       "rows": [
        [
         "count",
         "57312.0"
        ],
        [
         "mean",
         "4.088655080960358"
        ],
        [
         "std",
         "3.6446628944440675"
        ],
        [
         "min",
         "1.0"
        ],
        [
         "25%",
         "1.0"
        ],
        [
         "50%",
         "3.0"
        ],
        [
         "75%",
         "5.0"
        ],
        [
         "max",
         "34.0"
        ]
       ],
       "shape": {
        "columns": 1,
        "rows": 8
       }
      },
      "text/plain": [
       "count    57312.000000\n",
       "mean         4.088655\n",
       "std          3.644663\n",
       "min          1.000000\n",
       "25%          1.000000\n",
       "50%          3.000000\n",
       "75%          5.000000\n",
       "max         34.000000\n",
       "Name: event_id, dtype: float64"
      ]
     },
     "execution_count": 68,
     "metadata": {},
     "output_type": "execute_result"
    }
   ],
   "source": [
    "#Events per user summary stats\n",
    "events_per_user_df = events_df.groupby(\"user_id\")[\"event_id\"].count()\n",
    "events_per_user_df.describe()"
   ]
  },
  {
   "cell_type": "markdown",
   "id": "e3aafa1c",
   "metadata": {},
   "source": [
    "This summary shows that the average user in the dataset generates about 4 events, but the distribution is highly skewed, half of users have 3 or fewer events, and 25% have only 1 event, suggesting a large proportion of users show very limited engagement after signing up. On the other end, some users are much more active, with up to 34 events, indicating a small segment of power users. Mabye users who have less events are more likely to churn?"
   ]
  },
  {
   "cell_type": "markdown",
   "id": "20a83b61",
   "metadata": {},
   "source": [
    "### What type of users is the most active?"
   ]
  },
  {
   "cell_type": "code",
   "execution_count": null,
   "id": "da33bc21",
   "metadata": {},
   "outputs": [
    {
     "data": {
      "application/vnd.microsoft.datawrangler.viewer.v0+json": {
       "columns": [
        {
         "name": "index",
         "rawType": "int64",
         "type": "integer"
        },
        {
         "name": "event_id",
         "rawType": "object",
         "type": "unknown"
        },
        {
         "name": "user_id",
         "rawType": "object",
         "type": "string"
        },
        {
         "name": "session_id",
         "rawType": "object",
         "type": "unknown"
        },
        {
         "name": "ts",
         "rawType": "datetime64[ns]",
         "type": "datetime"
        },
        {
         "name": "feature_name",
         "rawType": "object",
         "type": "unknown"
        },
        {
         "name": "action",
         "rawType": "object",
         "type": "unknown"
        },
        {
         "name": "duration_ms",
         "rawType": "float64",
         "type": "float"
        },
        {
         "name": "latency_ms",
         "rawType": "float64",
         "type": "float"
        },
        {
         "name": "success",
         "rawType": "float64",
         "type": "float"
        },
        {
         "name": "signup_date",
         "rawType": "datetime64[ns]",
         "type": "datetime"
        },
        {
         "name": "plan_tier",
         "rawType": "object",
         "type": "string"
        },
        {
         "name": "company_size",
         "rawType": "object",
         "type": "string"
        },
        {
         "name": "region",
         "rawType": "object",
         "type": "unknown"
        },
        {
         "name": "industry",
         "rawType": "object",
         "type": "string"
        },
        {
         "name": "acquisition_channel",
         "rawType": "object",
         "type": "string"
        },
        {
         "name": "is_enterprise",
         "rawType": "bool",
         "type": "boolean"
        },
        {
         "name": "churned_30d",
         "rawType": "int64",
         "type": "integer"
        },
        {
         "name": "churned_90d",
         "rawType": "int64",
         "type": "integer"
        },
        {
         "name": "downgraded",
         "rawType": "int64",
         "type": "integer"
        },
        {
         "name": "expansion_event",
         "rawType": "int64",
         "type": "integer"
        }
       ],
       "ref": "ab7d7b9f-d70d-48cc-94f0-b51b88ad80f9",
       "rows": [
        [
         "0",
         "9b73cdb9-3830-477f-a51e-a7b5ae243afc",
         "0000093e-7258-43c0-b212-ea7212795ddf",
         "a6c4d437-0689-4875-9e56-67b7725d1b43",
         "2025-04-04 22:02:43.193165869",
         "jira_board",
         "view",
         "793.0",
         "97.0",
         "1.0",
         "2024-10-02 00:00:00",
         "free",
         "1-10",
         "APAC",
         "education",
         "partner",
         "False",
         "0",
         "1",
         "0",
         "1"
        ],
        [
         "1",
         null,
         "0003c565-9352-45aa-a448-82b91e57b043",
         null,
         null,
         null,
         null,
         null,
         null,
         null,
         "2025-03-10 00:00:00",
         "free",
         "1-10",
         null,
         "healthcare",
         "ads",
         "False",
         "1",
         "0",
         "0",
         "1"
        ],
        [
         "2",
         null,
         "00044174-f9c1-4412-b9ca-584a21903f92",
         null,
         null,
         null,
         null,
         null,
         null,
         null,
         "2024-07-02 00:00:00",
         "free",
         "11-50",
         "EU",
         "energy",
         "outbound",
         "False",
         "0",
         "0",
         "0",
         "1"
        ],
        [
         "3",
         null,
         "0005523a-ffde-4fe8-96d8-c203b1fe2f97",
         null,
         null,
         null,
         null,
         null,
         null,
         null,
         "2024-11-20 00:00:00",
         "free",
         "1-10",
         "EU",
         "healthcare",
         "ads",
         "False",
         "0",
         "0",
         "0",
         "1"
        ],
        [
         "4",
         "e0e609f6-bfcd-4943-ab2e-8185eb366806",
         "0006fdbd-c35d-4c0d-a948-e8ee10f279d5",
         "3b46e30b-12bf-41e2-bd14-d2bc13ef1bb3",
         "2025-02-12 23:54:17.167197759",
         "confluence_ai_assist",
         "complete",
         "1516.0",
         "108.0",
         "1.0",
         "2025-02-01 00:00:00",
         "free",
         "11-50",
         "APAC",
         "software",
         "seo",
         "False",
         "0",
         "0",
         "0",
         "1"
        ],
        [
         "5",
         "94a60382-a0d8-4137-a8b6-b2344a384a8d",
         "0007ee13-0c60-4865-9464-914b2df654df",
         "c0d7214a-60be-40c1-910f-9252afb40a97",
         "2025-03-22 19:21:56.798041435",
         "jira_board",
         "view",
         "337.0",
         "215.0",
         "1.0",
         "2025-03-21 00:00:00",
         "premium",
         "1-10",
         null,
         "telecom",
         "partner",
         "False",
         "0",
         "0",
         "0",
         "0"
        ],
        [
         "6",
         "344c0e1a-d027-4521-b66b-44577f1c55d2",
         "0007ee13-0c60-4865-9464-914b2df654df",
         "c0d7214a-60be-40c1-910f-9252afb40a97",
         "2025-03-22 19:22:35.466746682",
         "team_invite",
         "click",
         "1343.0",
         "108.0",
         "1.0",
         "2025-03-21 00:00:00",
         "premium",
         "1-10",
         null,
         "telecom",
         "partner",
         "False",
         "0",
         "0",
         "0",
         "0"
        ],
        [
         "7",
         "6951b702-e1f3-4000-a0df-450df0c5c2ce",
         "0007ee13-0c60-4865-9464-914b2df654df",
         "d8fde9ed-4af7-4c38-bbfe-e45e9cc687d7",
         "2025-03-21 13:01:05.680905509",
         "team_invite",
         "click",
         "2307.0",
         "50.0",
         "1.0",
         "2025-03-21 00:00:00",
         "premium",
         "1-10",
         null,
         "telecom",
         "partner",
         "False",
         "0",
         "0",
         "0",
         "0"
        ],
        [
         "8",
         "7453e282-e914-421a-b48e-9631d6d28f98",
         "0007ee13-0c60-4865-9464-914b2df654df",
         "49414e78-e5e5-4ce6-999c-58087cc73595",
         "2025-04-11 15:06:45.517910783",
         "jira_automation",
         "complete",
         "877.0",
         "205.0",
         "1.0",
         "2025-03-21 00:00:00",
         "premium",
         "1-10",
         null,
         "telecom",
         "partner",
         "False",
         "0",
         "0",
         "0",
         "0"
        ],
        [
         "9",
         "68004ae5-d736-4012-9ce0-6488f98c6be8",
         "000836d5-0777-4310-a8a5-5c857d2ea5e5",
         "21edbf8a-60f3-4a2f-9fce-44065a2e1061",
         "2024-07-15 12:43:09.775352924",
         "confluence_page",
         "view",
         "281.0",
         "59.0",
         "1.0",
         "2024-03-27 00:00:00",
         "free",
         "1-10",
         null,
         "transport",
         "ads",
         "False",
         "0",
         "0",
         "0",
         "1"
        ],
        [
         "10",
         "0bc9ef13-9f22-4fd1-9742-b0ce1531e0a4",
         "0008a782-5378-45a1-b332-10c73c4296ff",
         "10eccdaa-329a-4de0-97e4-b2ed508cdde6",
         "2025-02-20 17:06:11.148870204",
         "confluence_page",
         "click",
         "452.0",
         "137.0",
         "1.0",
         "2025-02-09 00:00:00",
         "premium",
         "1-10",
         "APAC",
         "education",
         "seo",
         "False",
         "0",
         "0",
         "0",
         "0"
        ],
        [
         "11",
         "0e1221fd-632a-4045-a373-3936ac609bd4",
         "0008a782-5378-45a1-b332-10c73c4296ff",
         "fcca2128-819e-451f-8aac-8374fc48a4df",
         "2025-04-05 12:10:19.687610682",
         "confluence_ai_assist",
         "click",
         "391.0",
         "472.0",
         "1.0",
         "2025-02-09 00:00:00",
         "premium",
         "1-10",
         "APAC",
         "education",
         "seo",
         "False",
         "0",
         "0",
         "0",
         "0"
        ],
        [
         "12",
         "fe8e5441-6e76-4d76-81b1-b63969408007",
         "0008a782-5378-45a1-b332-10c73c4296ff",
         "fcca2128-819e-451f-8aac-8374fc48a4df",
         "2025-04-05 11:58:58.050157181",
         "team_invite",
         "complete",
         "152.0",
         "130.0",
         "1.0",
         "2025-02-09 00:00:00",
         "premium",
         "1-10",
         "APAC",
         "education",
         "seo",
         "False",
         "0",
         "0",
         "0",
         "0"
        ],
        [
         "13",
         "ef7c162d-bb89-4dac-8b4d-dcfcaa265e15",
         "0008a782-5378-45a1-b332-10c73c4296ff",
         "c66313b5-7b92-4399-8e5c-64bd64f3d9e3",
         "2025-04-21 21:01:51.402630539",
         "confluence_ai_assist",
         "complete",
         "344.0",
         "1137.0",
         "0.0",
         "2025-02-09 00:00:00",
         "premium",
         "1-10",
         "APAC",
         "education",
         "seo",
         "False",
         "0",
         "0",
         "0",
         "0"
        ],
        [
         "14",
         "4b56fb3e-8a6f-45f5-b428-38b8f37bdb71",
         "0008a782-5378-45a1-b332-10c73c4296ff",
         "4f246c54-4c4c-4212-a2c0-7f45601ddc9b",
         "2025-06-12 12:26:20.382923089",
         "confluence_ai_assist",
         "complete",
         "260.0",
         "86.0",
         "1.0",
         "2025-02-09 00:00:00",
         "premium",
         "1-10",
         "APAC",
         "education",
         "seo",
         "False",
         "0",
         "0",
         "0",
         "0"
        ],
        [
         "15",
         "ec1314e2-486d-409d-8a90-ee73b3a31419",
         "0008a782-5378-45a1-b332-10c73c4296ff",
         "d9c7c4a3-2f06-4e3f-951f-96cfbab87cd2",
         "2025-07-06 16:24:21.740828238",
         "trello_export_csv",
         "click",
         "401.0",
         "72.0",
         "1.0",
         "2025-02-09 00:00:00",
         "premium",
         "1-10",
         "APAC",
         "education",
         "seo",
         "False",
         "0",
         "0",
         "0",
         "0"
        ],
        [
         "16",
         null,
         "000909df-34f9-4c01-b1bd-d6cc129bbca0",
         null,
         null,
         null,
         null,
         null,
         null,
         null,
         "2025-06-15 00:00:00",
         "standard",
         "11-50",
         "APAC",
         "healthcare",
         "outbound",
         "False",
         "0",
         "0",
         "0",
         "0"
        ],
        [
         "17",
         null,
         "00098150-549b-4ab9-823a-2d97b9ceeb7c",
         null,
         null,
         null,
         null,
         null,
         null,
         null,
         "2024-10-26 00:00:00",
         "free",
         "1-10",
         "EU",
         "media",
         "seo",
         "False",
         "0",
         "0",
         "0",
         "1"
        ],
        [
         "18",
         null,
         "0009ee9a-140e-4d8b-9d18-3ac99f227ee6",
         null,
         null,
         null,
         null,
         null,
         null,
         null,
         "2024-02-23 00:00:00",
         "free",
         "1-10",
         "APAC",
         "healthcare",
         "ads",
         "False",
         "0",
         "0",
         "0",
         "1"
        ],
        [
         "19",
         null,
         "000bc17a-7316-47a8-a17c-a0f1adf06dd6",
         null,
         null,
         null,
         null,
         null,
         null,
         null,
         "2024-08-03 00:00:00",
         "free",
         "1-10",
         null,
         "manufacturing",
         "outbound",
         "False",
         "0",
         "0",
         "0",
         "1"
        ],
        [
         "20",
         "e3659d51-3812-4dd4-ae60-1a8c06019d51",
         "000be011-0c3e-4caa-88d6-3b7aa8ffd52e",
         "fd848773-f341-44ba-a109-88f9106178f6",
         "2024-03-11 04:16:07.062991699",
         "jira_board",
         "click",
         "457.0",
         "205.0",
         "1.0",
         "2024-03-08 00:00:00",
         "premium",
         "11-50",
         null,
         "finance",
         "partner",
         "False",
         "0",
         "0",
         "0",
         "1"
        ],
        [
         "21",
         "15c7a159-d97e-426e-8c9a-4b8f1f37cc03",
         "000be011-0c3e-4caa-88d6-3b7aa8ffd52e",
         "d560da1c-273c-45f7-9605-d4ef3fc527d3",
         "2024-05-24 07:20:10.429462028",
         "jira_automation",
         "complete",
         "78.0",
         "706.0",
         "1.0",
         "2024-03-08 00:00:00",
         "premium",
         "11-50",
         null,
         "finance",
         "partner",
         "False",
         "0",
         "0",
         "0",
         "1"
        ],
        [
         "22",
         "cc671fcd-0fb5-4745-98c3-468298d3ac33",
         "000be011-0c3e-4caa-88d6-3b7aa8ffd52e",
         "d560da1c-273c-45f7-9605-d4ef3fc527d3",
         "2024-05-24 07:19:05.111990825",
         "bitbucket_integration",
         "click",
         "243.0",
         "68.0",
         "1.0",
         "2024-03-08 00:00:00",
         "premium",
         "11-50",
         null,
         "finance",
         "partner",
         "False",
         "0",
         "0",
         "0",
         "1"
        ],
        [
         "23",
         "736709f2-3ce8-45a3-9fd6-1fff8ce01bd7",
         "000be011-0c3e-4caa-88d6-3b7aa8ffd52e",
         "caed653b-2882-4b19-8855-32c71e76eeeb",
         "2024-06-28 19:05:29.613260784",
         "jira_board",
         "click",
         "2870.0",
         "173.0",
         "1.0",
         "2024-03-08 00:00:00",
         "premium",
         "11-50",
         null,
         "finance",
         "partner",
         "False",
         "0",
         "0",
         "0",
         "1"
        ],
        [
         "24",
         "532f76a4-3fa7-4f6d-8b83-f9e2756697f8",
         "000be011-0c3e-4caa-88d6-3b7aa8ffd52e",
         "caed653b-2882-4b19-8855-32c71e76eeeb",
         "2024-06-28 18:51:56.866226551",
         "jira_board",
         "view",
         "287.0",
         "409.0",
         "1.0",
         "2024-03-08 00:00:00",
         "premium",
         "11-50",
         null,
         "finance",
         "partner",
         "False",
         "0",
         "0",
         "0",
         "1"
        ],
        [
         "25",
         "e85526ea-da5d-4ef5-8065-95b788942ca8",
         "000be011-0c3e-4caa-88d6-3b7aa8ffd52e",
         "50bc23be-acf9-4818-8d94-d1f33f2264bc",
         "2024-07-10 05:52:13.349863471",
         "jira_automation",
         "click",
         "640.0",
         "287.0",
         "1.0",
         "2024-03-08 00:00:00",
         "premium",
         "11-50",
         null,
         "finance",
         "partner",
         "False",
         "0",
         "0",
         "0",
         "1"
        ],
        [
         "26",
         "0387309a-332a-40bd-9e7b-e8434c1c7ede",
         "000be011-0c3e-4caa-88d6-3b7aa8ffd52e",
         "145fa10a-aee1-4b22-b5bb-f33dd39e6407",
         "2024-09-13 18:17:55.716142270",
         "jira_automation",
         "complete",
         "529.0",
         "185.0",
         "1.0",
         "2024-03-08 00:00:00",
         "premium",
         "11-50",
         null,
         "finance",
         "partner",
         "False",
         "0",
         "0",
         "0",
         "1"
        ],
        [
         "27",
         "b7c58888-fc82-4e20-8868-ccf7a660a887",
         "000be011-0c3e-4caa-88d6-3b7aa8ffd52e",
         "203df5f4-302e-4fb6-b96e-2965f78edabd",
         "2024-10-29 12:20:14.225230273",
         "bitbucket_integration",
         "click",
         "513.0",
         "630.0",
         "0.0",
         "2024-03-08 00:00:00",
         "premium",
         "11-50",
         null,
         "finance",
         "partner",
         "False",
         "0",
         "0",
         "0",
         "1"
        ],
        [
         "28",
         "81d2be20-7c62-46af-a88e-fcfe87fdcbc7",
         "000be011-0c3e-4caa-88d6-3b7aa8ffd52e",
         "2a2ee21e-5fb6-478b-9e12-90ec72636d41",
         "2024-10-11 09:28:40.576718764",
         "jira_automation",
         "complete",
         "5079.0",
         "173.0",
         "1.0",
         "2024-03-08 00:00:00",
         "premium",
         "11-50",
         null,
         "finance",
         "partner",
         "False",
         "0",
         "0",
         "0",
         "1"
        ],
        [
         "29",
         "6e8c1ec2-4a00-4be6-ba16-84b4279d2bb3",
         "000be011-0c3e-4caa-88d6-3b7aa8ffd52e",
         "2a2ee21e-5fb6-478b-9e12-90ec72636d41",
         "2024-10-11 09:20:56.921081984",
         "jira_automation",
         "complete",
         "507.0",
         "423.0",
         "1.0",
         "2024-03-08 00:00:00",
         "premium",
         "11-50",
         null,
         "finance",
         "partner",
         "False",
         "0",
         "0",
         "0",
         "1"
        ],
        [
         "30",
         "4a446c06-2301-4a53-837e-3088816f9132",
         "000be011-0c3e-4caa-88d6-3b7aa8ffd52e",
         "67d255d7-c602-41ff-90a9-8acaa1c1054f",
         "2024-11-10 09:53:26.410831026",
         "jira_board",
         "view",
         "265.0",
         "190.0",
         "1.0",
         "2024-03-08 00:00:00",
         "premium",
         "11-50",
         null,
         "finance",
         "partner",
         "False",
         "0",
         "0",
         "0",
         "1"
        ],
        [
         "31",
         "f9530631-b5e1-453c-9439-455db510c2a1",
         "000be011-0c3e-4caa-88d6-3b7aa8ffd52e",
         "3449e032-018c-477d-a48a-b7fcf0844273",
         "2024-11-17 01:11:55.457165291",
         "team_invite",
         "click",
         "1167.0",
         "235.0",
         "1.0",
         "2024-03-08 00:00:00",
         "premium",
         "11-50",
         null,
         "finance",
         "partner",
         "False",
         "0",
         "0",
         "0",
         "1"
        ],
        [
         "32",
         "d7bb39d0-59b6-4ad0-afda-dd8a65a10511",
         "000be011-0c3e-4caa-88d6-3b7aa8ffd52e",
         "df8dfc15-781b-49d1-bc7c-1767b1f4689d",
         "2024-11-17 03:37:04.685617066",
         "jira_board",
         "view",
         "295.0",
         "67.0",
         "1.0",
         "2024-03-08 00:00:00",
         "premium",
         "11-50",
         null,
         "finance",
         "partner",
         "False",
         "0",
         "0",
         "0",
         "1"
        ],
        [
         "33",
         "5e7e145c-bae7-480c-8a7e-fbc0181c87cd",
         "000be011-0c3e-4caa-88d6-3b7aa8ffd52e",
         "cafba073-e6e1-4466-87d5-df909fd911a8",
         "2024-12-04 18:21:47.012657313",
         "jira_board",
         "view",
         "42.0",
         "162.0",
         "1.0",
         "2024-03-08 00:00:00",
         "premium",
         "11-50",
         null,
         "finance",
         "partner",
         "False",
         "0",
         "0",
         "0",
         "1"
        ],
        [
         "34",
         "cdfbb45a-f5d9-4268-b202-ea037dd374b7",
         "000be011-0c3e-4caa-88d6-3b7aa8ffd52e",
         "534ac20a-f3ea-4731-8907-d781dc853d10",
         "2024-12-10 16:52:23.727702771",
         "team_invite",
         "complete",
         "1094.0",
         "235.0",
         "1.0",
         "2024-03-08 00:00:00",
         "premium",
         "11-50",
         null,
         "finance",
         "partner",
         "False",
         "0",
         "0",
         "0",
         "1"
        ],
        [
         "35",
         "7789662e-8e59-4e35-8fed-ef15f35bc4ac",
         "000be011-0c3e-4caa-88d6-3b7aa8ffd52e",
         "73431fcd-18cf-473e-9d2d-ee7d3f8b559d",
         "2025-02-13 04:57:55.424766607",
         "bitbucket_integration",
         "click",
         "539.0",
         "137.0",
         "1.0",
         "2024-03-08 00:00:00",
         "premium",
         "11-50",
         null,
         "finance",
         "partner",
         "False",
         "0",
         "0",
         "0",
         "1"
        ],
        [
         "36",
         "46e28792-2228-4e3b-80db-2d9948641522",
         "000be011-0c3e-4caa-88d6-3b7aa8ffd52e",
         "760350c9-666d-41a8-a64f-370659b2d715",
         "2025-03-21 15:39:59.665165937",
         "jira_automation",
         "complete",
         "793.0",
         "321.0",
         "1.0",
         "2024-03-08 00:00:00",
         "premium",
         "11-50",
         null,
         "finance",
         "partner",
         "False",
         "0",
         "0",
         "0",
         "1"
        ],
        [
         "37",
         "53fe301e-dfa7-49fb-8041-36bde0ba5ccb",
         "000be011-0c3e-4caa-88d6-3b7aa8ffd52e",
         "a270056a-b591-4ffc-a1c3-6045ecc16200",
         "2025-07-30 18:37:23.358839902",
         "jira_automation",
         "complete",
         "1703.0",
         "55.0",
         "1.0",
         "2024-03-08 00:00:00",
         "premium",
         "11-50",
         null,
         "finance",
         "partner",
         "False",
         "0",
         "0",
         "0",
         "1"
        ],
        [
         "38",
         "9e31a27a-7f5c-44a5-968e-21fcd6908ae1",
         "000be011-0c3e-4caa-88d6-3b7aa8ffd52e",
         "a270056a-b591-4ffc-a1c3-6045ecc16200",
         "2025-07-30 18:40:16.404318706",
         "jira_automation",
         "complete",
         "758.0",
         "495.0",
         "1.0",
         "2024-03-08 00:00:00",
         "premium",
         "11-50",
         null,
         "finance",
         "partner",
         "False",
         "0",
         "0",
         "0",
         "1"
        ],
        [
         "39",
         "61ec3335-56a2-4745-8902-56cc1aab4762",
         "000be011-0c3e-4caa-88d6-3b7aa8ffd52e",
         "c4a21709-31a0-4345-9fea-5bc68a101e1b",
         "2025-07-28 19:46:24.255567794",
         "jira_automation",
         "complete",
         "509.0",
         "186.0",
         "1.0",
         "2024-03-08 00:00:00",
         "premium",
         "11-50",
         null,
         "finance",
         "partner",
         "False",
         "0",
         "0",
         "0",
         "1"
        ],
        [
         "40",
         "570fdcbc-e938-451f-ac38-931dcd5ef379",
         "000c2f26-7d44-48d2-bb48-cd0ea29dab20",
         "e7b98a3a-c240-4baa-8100-041d305cde50",
         "2025-02-04 14:16:23.270477416",
         "team_invite",
         "complete",
         "854.0",
         "273.0",
         "1.0",
         "2025-01-28 00:00:00",
         "standard",
         "11-50",
         null,
         "education",
         "seo",
         "False",
         "0",
         "0",
         "0",
         "0"
        ],
        [
         "41",
         "5905549d-b875-4989-a5cf-725b7779a531",
         "000c2f26-7d44-48d2-bb48-cd0ea29dab20",
         "8b8ac2ae-c815-44b7-9e69-b20159d193d1",
         "2025-02-17 01:10:37.350069612",
         "confluence_page",
         "view",
         "110.0",
         "627.0",
         "1.0",
         "2025-01-28 00:00:00",
         "standard",
         "11-50",
         null,
         "education",
         "seo",
         "False",
         "0",
         "0",
         "0",
         "0"
        ],
        [
         "42",
         "5620e964-71c1-4628-9c26-837952901478",
         "000c2f26-7d44-48d2-bb48-cd0ea29dab20",
         "8b8ac2ae-c815-44b7-9e69-b20159d193d1",
         "2025-02-17 01:09:35.685378590",
         "team_invite",
         "complete",
         "165.0",
         "72.0",
         "1.0",
         "2025-01-28 00:00:00",
         "standard",
         "11-50",
         null,
         "education",
         "seo",
         "False",
         "0",
         "0",
         "0",
         "0"
        ],
        [
         "43",
         "63cc01b9-4409-4f93-871d-5ab6972ab417",
         "000c2f26-7d44-48d2-bb48-cd0ea29dab20",
         "26fa6dd2-6069-4295-af43-d1066016fc08",
         "2025-05-30 22:05:49.305366001",
         "confluence_page",
         "view",
         "462.0",
         "250.0",
         "1.0",
         "2025-01-28 00:00:00",
         "standard",
         "11-50",
         null,
         "education",
         "seo",
         "False",
         "0",
         "0",
         "0",
         "0"
        ],
        [
         "44",
         "197fff81-9b2b-4f44-ad74-20127823caa0",
         "000c2f26-7d44-48d2-bb48-cd0ea29dab20",
         "21237f47-d412-44d3-ae90-b4f8f97291b9",
         "2025-07-21 01:11:50.860303248",
         "confluence_ai_assist",
         "click",
         "982.0",
         "592.0",
         "1.0",
         "2025-01-28 00:00:00",
         "standard",
         "11-50",
         null,
         "education",
         "seo",
         "False",
         "0",
         "0",
         "0",
         "0"
        ],
        [
         "45",
         null,
         "000e7deb-0142-4801-9697-4938b4021734",
         null,
         null,
         null,
         null,
         null,
         null,
         null,
         "2024-09-26 00:00:00",
         "free",
         "1-10",
         null,
         "finance",
         "outbound",
         "False",
         "0",
         "0",
         "0",
         "1"
        ],
        [
         "46",
         "4a05413f-ccb5-4095-a27c-1263d7cdc922",
         "000f0003-fbcc-4375-a9d6-1d8c63dbdf05",
         "3836cd1a-f809-4978-9b73-1a7f245cb708",
         "2024-12-10 20:34:30.640194890",
         "jira_board",
         "view",
         "1036.0",
         "161.0",
         "1.0",
         "2024-08-14 00:00:00",
         "standard",
         "1-10",
         "EU",
         "media",
         "partner",
         "False",
         "0",
         "0",
         "0",
         "1"
        ],
        [
         "47",
         "4b7f0293-0fcb-4875-a7c5-83d5af338cbb",
         "000f0003-fbcc-4375-a9d6-1d8c63dbdf05",
         "eb764cac-60b3-49d3-bef2-aa3c3d815a4a",
         "2025-01-11 11:35:42.159443840",
         "jira_board",
         "view",
         "178.0",
         "94.0",
         "1.0",
         "2024-08-14 00:00:00",
         "standard",
         "1-10",
         "EU",
         "media",
         "partner",
         "False",
         "0",
         "0",
         "0",
         "1"
        ],
        [
         "48",
         "ed456b06-e6a3-4e67-995e-175e6b1966e4",
         "000f0003-fbcc-4375-a9d6-1d8c63dbdf05",
         "24efdd37-3381-4973-9a1c-b0647c17696d",
         "2025-02-01 08:38:52.209539619",
         "team_invite",
         "complete",
         "1499.0",
         "82.0",
         "1.0",
         "2024-08-14 00:00:00",
         "standard",
         "1-10",
         "EU",
         "media",
         "partner",
         "False",
         "0",
         "0",
         "0",
         "1"
        ],
        [
         "49",
         "64a31b74-26b9-4187-8b3a-99c75d8288f2",
         "000f0003-fbcc-4375-a9d6-1d8c63dbdf05",
         "24efdd37-3381-4973-9a1c-b0647c17696d",
         "2025-02-01 08:34:03.425124247",
         "team_invite",
         "click",
         "1026.0",
         "146.0",
         "1.0",
         "2024-08-14 00:00:00",
         "standard",
         "1-10",
         "EU",
         "media",
         "partner",
         "False",
         "0",
         "0",
         "0",
         "1"
        ]
       ],
       "shape": {
        "columns": 20,
        "rows": 277017
       }
      },
      "text/html": [
       "<div>\n",
       "<style scoped>\n",
       "    .dataframe tbody tr th:only-of-type {\n",
       "        vertical-align: middle;\n",
       "    }\n",
       "\n",
       "    .dataframe tbody tr th {\n",
       "        vertical-align: top;\n",
       "    }\n",
       "\n",
       "    .dataframe thead th {\n",
       "        text-align: right;\n",
       "    }\n",
       "</style>\n",
       "<table border=\"1\" class=\"dataframe\">\n",
       "  <thead>\n",
       "    <tr style=\"text-align: right;\">\n",
       "      <th></th>\n",
       "      <th>event_id</th>\n",
       "      <th>user_id</th>\n",
       "      <th>session_id</th>\n",
       "      <th>ts</th>\n",
       "      <th>feature_name</th>\n",
       "      <th>action</th>\n",
       "      <th>duration_ms</th>\n",
       "      <th>latency_ms</th>\n",
       "      <th>success</th>\n",
       "      <th>signup_date</th>\n",
       "      <th>plan_tier</th>\n",
       "      <th>company_size</th>\n",
       "      <th>region</th>\n",
       "      <th>industry</th>\n",
       "      <th>acquisition_channel</th>\n",
       "      <th>is_enterprise</th>\n",
       "      <th>churned_30d</th>\n",
       "      <th>churned_90d</th>\n",
       "      <th>downgraded</th>\n",
       "      <th>expansion_event</th>\n",
       "    </tr>\n",
       "  </thead>\n",
       "  <tbody>\n",
       "    <tr>\n",
       "      <th>0</th>\n",
       "      <td>9b73cdb9-3830-477f-a51e-a7b5ae243afc</td>\n",
       "      <td>0000093e-7258-43c0-b212-ea7212795ddf</td>\n",
       "      <td>a6c4d437-0689-4875-9e56-67b7725d1b43</td>\n",
       "      <td>2025-04-04 22:02:43.193165869</td>\n",
       "      <td>jira_board</td>\n",
       "      <td>view</td>\n",
       "      <td>793.0</td>\n",
       "      <td>97.0</td>\n",
       "      <td>1.0</td>\n",
       "      <td>2024-10-02</td>\n",
       "      <td>free</td>\n",
       "      <td>1-10</td>\n",
       "      <td>APAC</td>\n",
       "      <td>education</td>\n",
       "      <td>partner</td>\n",
       "      <td>False</td>\n",
       "      <td>0</td>\n",
       "      <td>1</td>\n",
       "      <td>0</td>\n",
       "      <td>1</td>\n",
       "    </tr>\n",
       "    <tr>\n",
       "      <th>1</th>\n",
       "      <td>NaN</td>\n",
       "      <td>0003c565-9352-45aa-a448-82b91e57b043</td>\n",
       "      <td>NaN</td>\n",
       "      <td>NaT</td>\n",
       "      <td>NaN</td>\n",
       "      <td>NaN</td>\n",
       "      <td>NaN</td>\n",
       "      <td>NaN</td>\n",
       "      <td>NaN</td>\n",
       "      <td>2025-03-10</td>\n",
       "      <td>free</td>\n",
       "      <td>1-10</td>\n",
       "      <td>NaN</td>\n",
       "      <td>healthcare</td>\n",
       "      <td>ads</td>\n",
       "      <td>False</td>\n",
       "      <td>1</td>\n",
       "      <td>0</td>\n",
       "      <td>0</td>\n",
       "      <td>1</td>\n",
       "    </tr>\n",
       "    <tr>\n",
       "      <th>2</th>\n",
       "      <td>NaN</td>\n",
       "      <td>00044174-f9c1-4412-b9ca-584a21903f92</td>\n",
       "      <td>NaN</td>\n",
       "      <td>NaT</td>\n",
       "      <td>NaN</td>\n",
       "      <td>NaN</td>\n",
       "      <td>NaN</td>\n",
       "      <td>NaN</td>\n",
       "      <td>NaN</td>\n",
       "      <td>2024-07-02</td>\n",
       "      <td>free</td>\n",
       "      <td>11-50</td>\n",
       "      <td>EU</td>\n",
       "      <td>energy</td>\n",
       "      <td>outbound</td>\n",
       "      <td>False</td>\n",
       "      <td>0</td>\n",
       "      <td>0</td>\n",
       "      <td>0</td>\n",
       "      <td>1</td>\n",
       "    </tr>\n",
       "    <tr>\n",
       "      <th>3</th>\n",
       "      <td>NaN</td>\n",
       "      <td>0005523a-ffde-4fe8-96d8-c203b1fe2f97</td>\n",
       "      <td>NaN</td>\n",
       "      <td>NaT</td>\n",
       "      <td>NaN</td>\n",
       "      <td>NaN</td>\n",
       "      <td>NaN</td>\n",
       "      <td>NaN</td>\n",
       "      <td>NaN</td>\n",
       "      <td>2024-11-20</td>\n",
       "      <td>free</td>\n",
       "      <td>1-10</td>\n",
       "      <td>EU</td>\n",
       "      <td>healthcare</td>\n",
       "      <td>ads</td>\n",
       "      <td>False</td>\n",
       "      <td>0</td>\n",
       "      <td>0</td>\n",
       "      <td>0</td>\n",
       "      <td>1</td>\n",
       "    </tr>\n",
       "    <tr>\n",
       "      <th>4</th>\n",
       "      <td>e0e609f6-bfcd-4943-ab2e-8185eb366806</td>\n",
       "      <td>0006fdbd-c35d-4c0d-a948-e8ee10f279d5</td>\n",
       "      <td>3b46e30b-12bf-41e2-bd14-d2bc13ef1bb3</td>\n",
       "      <td>2025-02-12 23:54:17.167197759</td>\n",
       "      <td>confluence_ai_assist</td>\n",
       "      <td>complete</td>\n",
       "      <td>1516.0</td>\n",
       "      <td>108.0</td>\n",
       "      <td>1.0</td>\n",
       "      <td>2025-02-01</td>\n",
       "      <td>free</td>\n",
       "      <td>11-50</td>\n",
       "      <td>APAC</td>\n",
       "      <td>software</td>\n",
       "      <td>seo</td>\n",
       "      <td>False</td>\n",
       "      <td>0</td>\n",
       "      <td>0</td>\n",
       "      <td>0</td>\n",
       "      <td>1</td>\n",
       "    </tr>\n",
       "    <tr>\n",
       "      <th>...</th>\n",
       "      <td>...</td>\n",
       "      <td>...</td>\n",
       "      <td>...</td>\n",
       "      <td>...</td>\n",
       "      <td>...</td>\n",
       "      <td>...</td>\n",
       "      <td>...</td>\n",
       "      <td>...</td>\n",
       "      <td>...</td>\n",
       "      <td>...</td>\n",
       "      <td>...</td>\n",
       "      <td>...</td>\n",
       "      <td>...</td>\n",
       "      <td>...</td>\n",
       "      <td>...</td>\n",
       "      <td>...</td>\n",
       "      <td>...</td>\n",
       "      <td>...</td>\n",
       "      <td>...</td>\n",
       "      <td>...</td>\n",
       "    </tr>\n",
       "    <tr>\n",
       "      <th>277012</th>\n",
       "      <td>aa370362-83a6-4825-b035-0ad830fd656d</td>\n",
       "      <td>fffe77cc-44fd-401f-8fdd-9fa06afc6bc8</td>\n",
       "      <td>8dc1e26f-235b-4fed-8b85-6b729b6f0dc8</td>\n",
       "      <td>2025-03-18 14:01:11.686676783</td>\n",
       "      <td>team_invite</td>\n",
       "      <td>complete</td>\n",
       "      <td>1741.0</td>\n",
       "      <td>119.0</td>\n",
       "      <td>1.0</td>\n",
       "      <td>2024-05-22</td>\n",
       "      <td>standard</td>\n",
       "      <td>51-200</td>\n",
       "      <td>EU</td>\n",
       "      <td>energy</td>\n",
       "      <td>outbound</td>\n",
       "      <td>False</td>\n",
       "      <td>0</td>\n",
       "      <td>0</td>\n",
       "      <td>0</td>\n",
       "      <td>0</td>\n",
       "    </tr>\n",
       "    <tr>\n",
       "      <th>277013</th>\n",
       "      <td>ad8d5219-70fc-4d79-9f1b-414d4ebb9068</td>\n",
       "      <td>fffe77cc-44fd-401f-8fdd-9fa06afc6bc8</td>\n",
       "      <td>8dc1e26f-235b-4fed-8b85-6b729b6f0dc8</td>\n",
       "      <td>2025-03-18 13:59:28.221739535</td>\n",
       "      <td>confluence_page</td>\n",
       "      <td>click</td>\n",
       "      <td>587.0</td>\n",
       "      <td>597.0</td>\n",
       "      <td>1.0</td>\n",
       "      <td>2024-05-22</td>\n",
       "      <td>standard</td>\n",
       "      <td>51-200</td>\n",
       "      <td>EU</td>\n",
       "      <td>energy</td>\n",
       "      <td>outbound</td>\n",
       "      <td>False</td>\n",
       "      <td>0</td>\n",
       "      <td>0</td>\n",
       "      <td>0</td>\n",
       "      <td>0</td>\n",
       "    </tr>\n",
       "    <tr>\n",
       "      <th>277014</th>\n",
       "      <td>2c85f727-3d17-4067-b1d4-a884748bc2df</td>\n",
       "      <td>fffea094-3414-40c4-bab2-3925ba64491d</td>\n",
       "      <td>aa1c24f2-7e21-4186-8da3-ee717d1386f1</td>\n",
       "      <td>2025-05-01 09:00:39.404062991</td>\n",
       "      <td>jira_board</td>\n",
       "      <td>view</td>\n",
       "      <td>1237.0</td>\n",
       "      <td>240.0</td>\n",
       "      <td>1.0</td>\n",
       "      <td>2025-03-07</td>\n",
       "      <td>premium</td>\n",
       "      <td>1-10</td>\n",
       "      <td>APAC</td>\n",
       "      <td>manufacturing</td>\n",
       "      <td>seo</td>\n",
       "      <td>False</td>\n",
       "      <td>1</td>\n",
       "      <td>0</td>\n",
       "      <td>0</td>\n",
       "      <td>1</td>\n",
       "    </tr>\n",
       "    <tr>\n",
       "      <th>277015</th>\n",
       "      <td>892943f4-533e-4369-8cf8-abf04bb2ed18</td>\n",
       "      <td>fffea094-3414-40c4-bab2-3925ba64491d</td>\n",
       "      <td>5235370f-6c62-4b45-b55a-f8355c008707</td>\n",
       "      <td>2025-05-31 15:15:55.123447380</td>\n",
       "      <td>team_invite</td>\n",
       "      <td>click</td>\n",
       "      <td>925.0</td>\n",
       "      <td>472.0</td>\n",
       "      <td>1.0</td>\n",
       "      <td>2025-03-07</td>\n",
       "      <td>premium</td>\n",
       "      <td>1-10</td>\n",
       "      <td>APAC</td>\n",
       "      <td>manufacturing</td>\n",
       "      <td>seo</td>\n",
       "      <td>False</td>\n",
       "      <td>1</td>\n",
       "      <td>0</td>\n",
       "      <td>0</td>\n",
       "      <td>1</td>\n",
       "    </tr>\n",
       "    <tr>\n",
       "      <th>277016</th>\n",
       "      <td>d0f18418-c432-429e-812d-f6fd677fe19c</td>\n",
       "      <td>fffea094-3414-40c4-bab2-3925ba64491d</td>\n",
       "      <td>60f1d19b-d261-447b-aeee-110d115609f9</td>\n",
       "      <td>2025-06-26 21:58:41.508871840</td>\n",
       "      <td>jira_board</td>\n",
       "      <td>view</td>\n",
       "      <td>434.0</td>\n",
       "      <td>200.0</td>\n",
       "      <td>1.0</td>\n",
       "      <td>2025-03-07</td>\n",
       "      <td>premium</td>\n",
       "      <td>1-10</td>\n",
       "      <td>APAC</td>\n",
       "      <td>manufacturing</td>\n",
       "      <td>seo</td>\n",
       "      <td>False</td>\n",
       "      <td>1</td>\n",
       "      <td>0</td>\n",
       "      <td>0</td>\n",
       "      <td>1</td>\n",
       "    </tr>\n",
       "  </tbody>\n",
       "</table>\n",
       "<p>277017 rows × 20 columns</p>\n",
       "</div>"
      ],
      "text/plain": [
       "                                    event_id  \\\n",
       "0       9b73cdb9-3830-477f-a51e-a7b5ae243afc   \n",
       "1                                        NaN   \n",
       "2                                        NaN   \n",
       "3                                        NaN   \n",
       "4       e0e609f6-bfcd-4943-ab2e-8185eb366806   \n",
       "...                                      ...   \n",
       "277012  aa370362-83a6-4825-b035-0ad830fd656d   \n",
       "277013  ad8d5219-70fc-4d79-9f1b-414d4ebb9068   \n",
       "277014  2c85f727-3d17-4067-b1d4-a884748bc2df   \n",
       "277015  892943f4-533e-4369-8cf8-abf04bb2ed18   \n",
       "277016  d0f18418-c432-429e-812d-f6fd677fe19c   \n",
       "\n",
       "                                     user_id  \\\n",
       "0       0000093e-7258-43c0-b212-ea7212795ddf   \n",
       "1       0003c565-9352-45aa-a448-82b91e57b043   \n",
       "2       00044174-f9c1-4412-b9ca-584a21903f92   \n",
       "3       0005523a-ffde-4fe8-96d8-c203b1fe2f97   \n",
       "4       0006fdbd-c35d-4c0d-a948-e8ee10f279d5   \n",
       "...                                      ...   \n",
       "277012  fffe77cc-44fd-401f-8fdd-9fa06afc6bc8   \n",
       "277013  fffe77cc-44fd-401f-8fdd-9fa06afc6bc8   \n",
       "277014  fffea094-3414-40c4-bab2-3925ba64491d   \n",
       "277015  fffea094-3414-40c4-bab2-3925ba64491d   \n",
       "277016  fffea094-3414-40c4-bab2-3925ba64491d   \n",
       "\n",
       "                                  session_id                            ts  \\\n",
       "0       a6c4d437-0689-4875-9e56-67b7725d1b43 2025-04-04 22:02:43.193165869   \n",
       "1                                        NaN                           NaT   \n",
       "2                                        NaN                           NaT   \n",
       "3                                        NaN                           NaT   \n",
       "4       3b46e30b-12bf-41e2-bd14-d2bc13ef1bb3 2025-02-12 23:54:17.167197759   \n",
       "...                                      ...                           ...   \n",
       "277012  8dc1e26f-235b-4fed-8b85-6b729b6f0dc8 2025-03-18 14:01:11.686676783   \n",
       "277013  8dc1e26f-235b-4fed-8b85-6b729b6f0dc8 2025-03-18 13:59:28.221739535   \n",
       "277014  aa1c24f2-7e21-4186-8da3-ee717d1386f1 2025-05-01 09:00:39.404062991   \n",
       "277015  5235370f-6c62-4b45-b55a-f8355c008707 2025-05-31 15:15:55.123447380   \n",
       "277016  60f1d19b-d261-447b-aeee-110d115609f9 2025-06-26 21:58:41.508871840   \n",
       "\n",
       "                feature_name    action  duration_ms  latency_ms  success  \\\n",
       "0                 jira_board      view        793.0        97.0      1.0   \n",
       "1                        NaN       NaN          NaN         NaN      NaN   \n",
       "2                        NaN       NaN          NaN         NaN      NaN   \n",
       "3                        NaN       NaN          NaN         NaN      NaN   \n",
       "4       confluence_ai_assist  complete       1516.0       108.0      1.0   \n",
       "...                      ...       ...          ...         ...      ...   \n",
       "277012           team_invite  complete       1741.0       119.0      1.0   \n",
       "277013       confluence_page     click        587.0       597.0      1.0   \n",
       "277014            jira_board      view       1237.0       240.0      1.0   \n",
       "277015           team_invite     click        925.0       472.0      1.0   \n",
       "277016            jira_board      view        434.0       200.0      1.0   \n",
       "\n",
       "       signup_date plan_tier company_size region       industry  \\\n",
       "0       2024-10-02      free         1-10   APAC      education   \n",
       "1       2025-03-10      free         1-10    NaN     healthcare   \n",
       "2       2024-07-02      free        11-50     EU         energy   \n",
       "3       2024-11-20      free         1-10     EU     healthcare   \n",
       "4       2025-02-01      free        11-50   APAC       software   \n",
       "...            ...       ...          ...    ...            ...   \n",
       "277012  2024-05-22  standard       51-200     EU         energy   \n",
       "277013  2024-05-22  standard       51-200     EU         energy   \n",
       "277014  2025-03-07   premium         1-10   APAC  manufacturing   \n",
       "277015  2025-03-07   premium         1-10   APAC  manufacturing   \n",
       "277016  2025-03-07   premium         1-10   APAC  manufacturing   \n",
       "\n",
       "       acquisition_channel  is_enterprise  churned_30d  churned_90d  \\\n",
       "0                  partner          False            0            1   \n",
       "1                      ads          False            1            0   \n",
       "2                 outbound          False            0            0   \n",
       "3                      ads          False            0            0   \n",
       "4                      seo          False            0            0   \n",
       "...                    ...            ...          ...          ...   \n",
       "277012            outbound          False            0            0   \n",
       "277013            outbound          False            0            0   \n",
       "277014                 seo          False            1            0   \n",
       "277015                 seo          False            1            0   \n",
       "277016                 seo          False            1            0   \n",
       "\n",
       "        downgraded  expansion_event  \n",
       "0                0                1  \n",
       "1                0                1  \n",
       "2                0                1  \n",
       "3                0                1  \n",
       "4                0                1  \n",
       "...            ...              ...  \n",
       "277012           0                0  \n",
       "277013           0                0  \n",
       "277014           0                1  \n",
       "277015           0                1  \n",
       "277016           0                1  \n",
       "\n",
       "[277017 rows x 20 columns]"
      ]
     },
     "execution_count": 75,
     "metadata": {},
     "output_type": "execute_result"
    }
   ],
   "source": [
    "# Merge user and events using outer join, as some users have not had an event\n",
    "users_events_merged = pd.merge(events_df, users_df, on=\"user_id\", how=\"outer\")\n",
    "users_events_merged"
   ]
  },
  {
   "cell_type": "code",
   "execution_count": 86,
   "id": "3d706922",
   "metadata": {},
   "outputs": [],
   "source": [
    "events_by_industry = (\n",
    "    users_events_merged\n",
    "    .groupby(\"industry\")\n",
    "    .agg({\"event_id\": \"count\"})\n",
    "    .rename(columns={\"event_id\": \"event_count\"})\n",
    ")"
   ]
  },
  {
   "cell_type": "code",
   "execution_count": 91,
   "id": "c79d4a58",
   "metadata": {},
   "outputs": [
    {
     "data": {
      "image/png": "[encoded data removed]",
      "text/plain": [
       "<Figure size 1000x500 with 1 Axes>"
      ]
     },
     "metadata": {},
     "output_type": "display_data"
    }
   ],
   "source": [
    "fig, ax = plt.subplots(figsize=(10,5))\n",
    "\n",
    "sns.barplot(data=events_by_industry.reset_index(), x=\"industry\", y=\"event_count\", ax=ax)\n",
    "ax.set_title(\"Total Events by Industry\")\n",
    "ax.set_xlabel(\"Industry\")\n",
    "ax.set_ylabel(\"Event Count\")\n",
    "plt.xticks(rotation=45)\n",
    "plt.tight_layout()\n",
    "plt.show()"
   ]
  },
  {
   "cell_type": "code",
   "execution_count": 92,
   "id": "47f55fda",
   "metadata": {},
   "outputs": [
    {
     "name": "stdout",
     "output_type": "stream",
     "text": [
      "   is_enterprise  event_count\n",
      "0          False       211165\n",
      "1           True        23164\n"
     ]
    }
   ],
   "source": [
    "events_by_enterprise = (\n",
    "    users_events_merged\n",
    "    .groupby(\"is_enterprise\")\n",
    "    .agg(event_count=(\"event_id\", \"count\"))\n",
    "    .reset_index()\n",
    ")\n",
    "print(events_by_enterprise)"
   ]
  },
  {
   "cell_type": "code",
   "execution_count": 93,
   "id": "03cd6ec9",
   "metadata": {},
   "outputs": [
    {
     "name": "stderr",
     "output_type": "stream",
     "text": [
      "/var/folders/83/z6dh6x592f7cw62tg8hz97000000gp/T/ipykernel_12064/3035279024.py:3: FutureWarning: \n",
      "\n",
      "Passing `palette` without assigning `hue` is deprecated and will be removed in v0.14.0. Assign the `x` variable to `hue` and set `legend=False` for the same effect.\n",
      "\n",
      "  sns.barplot(\n"
     ]
    },
    {
     "data": {
      "image/png": "[encoded data removed]",
      "text/plain": [
       "<Figure size 600x500 with 1 Axes>"
      ]
     },
     "metadata": {},
     "output_type": "display_data"
    }
   ],
   "source": [
    "fig, ax = plt.subplots(figsize=(6, 5))\n",
    "\n",
    "sns.barplot(\n",
    "    data=events_by_enterprise,\n",
    "    x=\"is_enterprise\",\n",
    "    y=\"event_count\",\n",
    "    ax=ax,\n",
    "    palette=\"Blues\"\n",
    ")\n",
    "\n",
    "ax.set_title(\"Total Events by Enterprise Status\")\n",
    "ax.set_xlabel(\"Enterprise Customer\")\n",
    "ax.set_ylabel(\"Event Count\")\n",
    "plt.tight_layout()\n",
    "plt.show()"
   ]
  },
  {
   "cell_type": "code",
   "execution_count": 94,
   "id": "39e16385",
   "metadata": {},
   "outputs": [
    {
     "name": "stdout",
     "output_type": "stream",
     "text": [
      "   is_enterprise  total_events  unique_users  events_per_user\n",
      "0          False        211165         96794         2.181592\n",
      "1           True         23164          3206         7.225203\n"
     ]
    }
   ],
   "source": [
    "events_per_user_enterprise = (\n",
    "    users_events_merged\n",
    "    .groupby(\"is_enterprise\")\n",
    "    .agg(\n",
    "        total_events=(\"event_id\", \"count\"),\n",
    "        unique_users=(\"user_id\", \"nunique\")\n",
    "    )\n",
    "    .assign(events_per_user=lambda d: d[\"total_events\"] / d[\"unique_users\"])\n",
    "    .reset_index()\n",
    ")\n",
    "\n",
    "print(events_per_user_enterprise)"
   ]
  },
  {
   "cell_type": "code",
   "execution_count": 98,
   "id": "916c46a9",
   "metadata": {},
   "outputs": [
    {
     "name": "stdout",
     "output_type": "stream",
     "text": [
      "        industry  total_events  unique_users  events_per_user\n",
      "0      education         23593         10129         2.329253\n",
      "1         energy         22909          9941         2.304497\n",
      "2        finance         23958         10012         2.392928\n",
      "3     healthcare         23024         10107         2.278025\n",
      "4  manufacturing         23914         10126         2.361643\n"
     ]
    }
   ],
   "source": [
    "events_per_user_industry = (\n",
    "    users_events_merged\n",
    "    .groupby(\"industry\")\n",
    "    .agg(\n",
    "        total_events=(\"event_id\", \"count\"),\n",
    "        unique_users=(\"user_id\", \"nunique\")\n",
    "    )\n",
    "    .assign(events_per_user=lambda d: d[\"total_events\"] / d[\"unique_users\"])\n",
    "    .reset_index()\n",
    ")\n",
    "\n",
    "print(events_per_user_industry.head())"
   ]
  },
  {
   "cell_type": "code",
   "execution_count": 97,
   "id": "ea0fb7f3",
   "metadata": {},
   "outputs": [
    {
     "name": "stderr",
     "output_type": "stream",
     "text": [
      "/var/folders/83/z6dh6x592f7cw62tg8hz97000000gp/T/ipykernel_12064/2109469291.py:1: FutureWarning: \n",
      "\n",
      "Passing `palette` without assigning `hue` is deprecated and will be removed in v0.14.0. Assign the `x` variable to `hue` and set `legend=False` for the same effect.\n",
      "\n",
      "  sns.barplot(\n"
     ]
    },
    {
     "data": {
      "image/png": "[encoded data removed]",
      "text/plain": [
       "<Figure size 1000x600 with 1 Axes>"
      ]
     },
     "metadata": {},
     "output_type": "display_data"
    }
   ],
   "source": [
    "sns.barplot(\n",
    "    data=events_per_user_enterprise,\n",
    "    x=\"is_enterprise\",\n",
    "    y=\"events_per_user\",\n",
    "    palette=\"Blues\"\n",
    ")\n",
    "plt.title(\"Average Events per User by Enterprise Status\")\n",
    "plt.ylabel(\"Events per User\")\n",
    "plt.show()"
   ]
  },
  {
   "cell_type": "code",
   "execution_count": 96,
   "id": "d74abb1b",
   "metadata": {},
   "outputs": [
    {
     "name": "stderr",
     "output_type": "stream",
     "text": [
      "/var/folders/83/z6dh6x592f7cw62tg8hz97000000gp/T/ipykernel_12064/3785531139.py:1: FutureWarning: \n",
      "\n",
      "Passing `palette` without assigning `hue` is deprecated and will be removed in v0.14.0. Assign the `x` variable to `hue` and set `legend=False` for the same effect.\n",
      "\n",
      "  sns.barplot(\n"
     ]
    },
    {
     "data": {
      "image/png": "[encoded data removed]",
      "text/plain": [
       "<Figure size 1000x600 with 1 Axes>"
      ]
     },
     "metadata": {},
     "output_type": "display_data"
    }
   ],
   "source": [
    "sns.barplot(\n",
    "    data=events_per_user_industry.sort_values(\"events_per_user\", ascending=False),\n",
    "    x=\"industry\",\n",
    "    y=\"events_per_user\",\n",
    "    palette=\"Blues\"\n",
    ")\n",
    "plt.title(\"Average Events per User by Industry\")\n",
    "plt.xticks(rotation=45)\n",
    "plt.ylabel(\"Events per User\")\n",
    "plt.show()"
   ]
  }
 ],
 "metadata": {
  "kernelspec": {
   "display_name": "atlassian-datathon",
   "language": "python",
   "name": "python3"
  },
  "language_info": {
   "codemirror_mode": {
    "name": "ipython",
    "version": 3
   },
   "file_extension": ".py",
   "mimetype": "text/x-python",
   "name": "python",
   "nbconvert_exporter": "python",
   "pygments_lexer": "ipython3",
   "version": "3.11.13"
  }
 },
 "nbformat": 4,
 "nbformat_minor": 5
}
